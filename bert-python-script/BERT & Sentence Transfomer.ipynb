{
 "cells": [
  {
   "cell_type": "code",
   "execution_count": 1,
   "id": "e453c742-c546-417b-b854-efab09ac7cef",
   "metadata": {
    "tags": []
   },
   "outputs": [
    {
     "name": "stderr",
     "output_type": "stream",
     "text": [
      "2023-09-11 19:08:13.393803: I tensorflow/core/platform/cpu_feature_guard.cc:193] This TensorFlow binary is optimized with oneAPI Deep Neural Network Library (oneDNN) to use the following CPU instructions in performance-critical operations:  SSE4.1 SSE4.2 AVX AVX2 FMA\n",
      "To enable them in other operations, rebuild TensorFlow with the appropriate compiler flags.\n"
     ]
    },
    {
     "data": {
      "text/plain": [
       "<torch._C.Generator at 0x7ff6453479b0>"
      ]
     },
     "execution_count": 1,
     "metadata": {},
     "output_type": "execute_result"
    }
   ],
   "source": [
    "# Import necessary libraries\n",
    "import numpy as np\n",
    "import pandas as pd\n",
    "import seaborn as sns\n",
    "# from pylab import rcParams\n",
    "import matplotlib.pyplot as plt\n",
    "from matplotlib import rc\n",
    "from sklearn.model_selection import train_test_split\n",
    "from sklearn.metrics import confusion_matrix, classification_report\n",
    "# from collections import defaultdict\n",
    "# from textwrap import wrap\n",
    "\n",
    "# Misc.\n",
    "import warnings\n",
    "warnings.filterwarnings('ignore')\n",
    "\n",
    "# Torch ML libraries\n",
    "import transformers\n",
    "from transformers import BertModel, BertTokenizer, AdamW, get_linear_schedule_with_warmup\n",
    "from transformers import InputExample, InputFeatures\n",
    "import torch\n",
    "from torch import nn, optim\n",
    "from torch.utils.data import Dataset, DataLoader\n",
    "from sentence_transformers import SentenceTransformer, util\n",
    "\n",
    "torch.manual_seed(42)"
   ]
  },
  {
   "cell_type": "markdown",
   "id": "cb2ff130-2c15-44ee-ab2d-6575225483d6",
   "metadata": {},
   "source": [
    "### Load dataset"
   ]
  },
  {
   "cell_type": "code",
   "execution_count": 2,
   "id": "5e3a3c34-39f0-4b29-96ea-a0911f00e8b3",
   "metadata": {
    "tags": []
   },
   "outputs": [
    {
     "data": {
      "text/html": [
       "<div>\n",
       "<style scoped>\n",
       "    .dataframe tbody tr th:only-of-type {\n",
       "        vertical-align: middle;\n",
       "    }\n",
       "\n",
       "    .dataframe tbody tr th {\n",
       "        vertical-align: top;\n",
       "    }\n",
       "\n",
       "    .dataframe thead th {\n",
       "        text-align: right;\n",
       "    }\n",
       "</style>\n",
       "<table border=\"1\" class=\"dataframe\">\n",
       "  <thead>\n",
       "    <tr style=\"text-align: right;\">\n",
       "      <th></th>\n",
       "      <th>bv_transaction_id</th>\n",
       "      <th>amount</th>\n",
       "      <th>description</th>\n",
       "      <th>memo</th>\n",
       "      <th>categorization</th>\n",
       "      <th>transaction_date</th>\n",
       "      <th>bank_name</th>\n",
       "      <th>provider</th>\n",
       "      <th>bank_status</th>\n",
       "      <th>unauth</th>\n",
       "    </tr>\n",
       "  </thead>\n",
       "  <tbody>\n",
       "    <tr>\n",
       "      <th>0</th>\n",
       "      <td>287dac6f-a6d2-4af1-a7ca-b0eb38840c11</td>\n",
       "      <td>370.96</td>\n",
       "      <td>Direct Debit: 4250411835 Direct Debit Instacas...</td>\n",
       "      <td>Service Financial Loans and Mortgages</td>\n",
       "      <td>Service, Financial, Loans and Mortgages</td>\n",
       "      <td>2022-09-20 00:00:00.000</td>\n",
       "      <td>Chime Bank</td>\n",
       "      <td>PLAID</td>\n",
       "      <td>REMOVED</td>\n",
       "      <td>1</td>\n",
       "    </tr>\n",
       "    <tr>\n",
       "      <th>1</th>\n",
       "      <td>73617b82-261d-46f0-932f-66dc7d37c932</td>\n",
       "      <td>64.99</td>\n",
       "      <td>Reversal: INSTACASH PAYMEN MONEYLION 6310dc5d</td>\n",
       "      <td>Service Financial Loans and Mortgages</td>\n",
       "      <td>Service, Financial, Loans and Mortgages</td>\n",
       "      <td>2022-09-19 00:00:00.000</td>\n",
       "      <td>Chase</td>\n",
       "      <td>PLAID</td>\n",
       "      <td>UNLINKED</td>\n",
       "      <td>1</td>\n",
       "    </tr>\n",
       "    <tr>\n",
       "      <th>2</th>\n",
       "      <td>10d6a05b-b9ab-4d58-89c3-1fb5b7a54e69</td>\n",
       "      <td>525.95</td>\n",
       "      <td>Dispute Final Credit</td>\n",
       "      <td>Transfer Credit</td>\n",
       "      <td>Transfer, Credit</td>\n",
       "      <td>2023-03-28 00:00:00.000</td>\n",
       "      <td>Huntington Bank</td>\n",
       "      <td>PLAID</td>\n",
       "      <td>COMPLETE</td>\n",
       "      <td>1</td>\n",
       "    </tr>\n",
       "    <tr>\n",
       "      <th>3</th>\n",
       "      <td>f74cbfe6-54e2-4051-837a-1ef1dc002c20</td>\n",
       "      <td>832.35</td>\n",
       "      <td>INSTACASH PAYMEN REVERSAL</td>\n",
       "      <td>Transfer Credit</td>\n",
       "      <td>Transfer, Credit</td>\n",
       "      <td>2022-09-07 00:00:00.000</td>\n",
       "      <td>TD Bank</td>\n",
       "      <td>PLAID</td>\n",
       "      <td>REMOVED</td>\n",
       "      <td>1</td>\n",
       "    </tr>\n",
       "    <tr>\n",
       "      <th>4</th>\n",
       "      <td>70e0aeac-14c1-4e95-b08f-0b10a3743475</td>\n",
       "      <td>212.00</td>\n",
       "      <td>INSTACASH PAYMEN</td>\n",
       "      <td>Transfer Credit</td>\n",
       "      <td>Transfer, Credit</td>\n",
       "      <td>2022-10-06 00:00:00.000</td>\n",
       "      <td>Capital One</td>\n",
       "      <td>PLAID</td>\n",
       "      <td>REMOVED</td>\n",
       "      <td>1</td>\n",
       "    </tr>\n",
       "  </tbody>\n",
       "</table>\n",
       "</div>"
      ],
      "text/plain": [
       "                      bv_transaction_id  amount  \\\n",
       "0  287dac6f-a6d2-4af1-a7ca-b0eb38840c11  370.96   \n",
       "1  73617b82-261d-46f0-932f-66dc7d37c932   64.99   \n",
       "2  10d6a05b-b9ab-4d58-89c3-1fb5b7a54e69  525.95   \n",
       "3  f74cbfe6-54e2-4051-837a-1ef1dc002c20  832.35   \n",
       "4  70e0aeac-14c1-4e95-b08f-0b10a3743475  212.00   \n",
       "\n",
       "                                         description  \\\n",
       "0  Direct Debit: 4250411835 Direct Debit Instacas...   \n",
       "1      Reversal: INSTACASH PAYMEN MONEYLION 6310dc5d   \n",
       "2                               Dispute Final Credit   \n",
       "3                          INSTACASH PAYMEN REVERSAL   \n",
       "4                                   INSTACASH PAYMEN   \n",
       "\n",
       "                                    memo  \\\n",
       "0  Service Financial Loans and Mortgages   \n",
       "1  Service Financial Loans and Mortgages   \n",
       "2                        Transfer Credit   \n",
       "3                        Transfer Credit   \n",
       "4                        Transfer Credit   \n",
       "\n",
       "                            categorization         transaction_date  \\\n",
       "0  Service, Financial, Loans and Mortgages  2022-09-20 00:00:00.000   \n",
       "1  Service, Financial, Loans and Mortgages  2022-09-19 00:00:00.000   \n",
       "2                         Transfer, Credit  2023-03-28 00:00:00.000   \n",
       "3                         Transfer, Credit  2022-09-07 00:00:00.000   \n",
       "4                         Transfer, Credit  2022-10-06 00:00:00.000   \n",
       "\n",
       "         bank_name provider bank_status  unauth  \n",
       "0       Chime Bank    PLAID     REMOVED       1  \n",
       "1            Chase    PLAID    UNLINKED       1  \n",
       "2  Huntington Bank    PLAID    COMPLETE       1  \n",
       "3          TD Bank    PLAID     REMOVED       1  \n",
       "4      Capital One    PLAID     REMOVED       1  "
      ]
     },
     "execution_count": 2,
     "metadata": {},
     "output_type": "execute_result"
    }
   ],
   "source": [
    "df = pd.read_csv('/Users/twoon/Downloads/TrainDataACHReversal_modified_2023-8-1_1752.csv')\n",
    "df.columns = list(df.columns.str.lower())\n",
    "df.rename(columns={'is_chb': 'unauth'} , inplace = True)\n",
    "df.head(5)"
   ]
  },
  {
   "cell_type": "code",
   "execution_count": 3,
   "id": "a230c299-0b82-4f40-ae4a-b791dbb49ee7",
   "metadata": {
    "tags": []
   },
   "outputs": [],
   "source": [
    "df['short_desc'] = df['description'].apply(lambda x: \n",
    "                                             x if len(x) <= 30 else \n",
    "                                             (x[:30] if x[30]==' ' else \n",
    "                                              (x[:x[30:].index(' ') + 30] if ' ' in x[30:] else x)\n",
    "                                             )\n",
    "                                            )                                        "
   ]
  },
  {
   "cell_type": "code",
   "execution_count": 5,
   "id": "19b11033",
   "metadata": {},
   "outputs": [
    {
     "data": {
      "text/plain": [
       "(15746, 11)"
      ]
     },
     "execution_count": 5,
     "metadata": {},
     "output_type": "execute_result"
    }
   ],
   "source": [
    "df.shape"
   ]
  },
  {
   "cell_type": "markdown",
   "id": "7f957a5a-5822-4e72-ab36-0c8c7ce23905",
   "metadata": {},
   "source": [
    "# Training"
   ]
  },
  {
   "cell_type": "code",
   "execution_count": 4,
   "id": "8650611f-eae4-4b2b-9e91-cae3361d9bbd",
   "metadata": {
    "tags": []
   },
   "outputs": [],
   "source": [
    "# create training data\n",
    "df_train = df[df['bank_name']!='Chime Bank']\n",
    "df_train = df_train[['description', 'short_desc', 'bank_name', 'unauth']][0:5000] "
   ]
  },
  {
   "cell_type": "markdown",
   "id": "130212ef-796a-4479-8411-043499207438",
   "metadata": {},
   "source": [
    "### BERT"
   ]
  },
  {
   "cell_type": "markdown",
   "id": "6b465b92-6f35-4567-9b08-cd58e107efd5",
   "metadata": {},
   "source": [
    "#### Encode (Tokenize) description"
   ]
  },
  {
   "cell_type": "code",
   "execution_count": 5,
   "id": "77e477f6-76fa-4182-838e-6404f4d254d4",
   "metadata": {
    "tags": []
   },
   "outputs": [
    {
     "name": "stderr",
     "output_type": "stream",
     "text": [
      "Some weights of the model checkpoint at bert-base-uncased were not used when initializing BertModel: ['cls.predictions.transform.dense.bias', 'cls.predictions.transform.LayerNorm.bias', 'cls.seq_relationship.weight', 'cls.predictions.bias', 'cls.predictions.decoder.weight', 'cls.predictions.transform.LayerNorm.weight', 'cls.predictions.transform.dense.weight', 'cls.seq_relationship.bias']\n",
      "- This IS expected if you are initializing BertModel from the checkpoint of a model trained on another task or with another architecture (e.g. initializing a BertForSequenceClassification model from a BertForPreTraining model).\n",
      "- This IS NOT expected if you are initializing BertModel from the checkpoint of a model that you expect to be exactly identical (initializing a BertForSequenceClassification model from a BertForSequenceClassification model).\n"
     ]
    }
   ],
   "source": [
    "# define tokenizer and model\n",
    "tokenizer = BertTokenizer.from_pretrained('bert-base-uncased', truncation = True)\n",
    "model = BertModel.from_pretrained(\"bert-base-uncased\", output_hidden_states = True)"
   ]
  },
  {
   "cell_type": "code",
   "execution_count": 6,
   "id": "11ccb56d-eb09-46b9-8131-9a18ee232b4e",
   "metadata": {
    "tags": []
   },
   "outputs": [],
   "source": [
    "df_train['encode_bert']=df_train['short_desc'].apply(lambda x: tokenizer.encode(x, \n",
    "                                                                                truncation = True,\n",
    "                                                                                max_length=512,\n",
    "                                                                                return_tensors='pt'))"
   ]
  },
  {
   "cell_type": "code",
   "execution_count": 7,
   "id": "55e812c4",
   "metadata": {},
   "outputs": [],
   "source": [
    "with torch.no_grad():\n",
    "    result = model(df_train['encode_bert'].iloc[0])[0]"
   ]
  },
  {
   "cell_type": "code",
   "execution_count": 11,
   "id": "264bc78f",
   "metadata": {},
   "outputs": [
    {
     "data": {
      "text/plain": [
       "torch.Size([1, 768])"
      ]
     },
     "execution_count": 11,
     "metadata": {},
     "output_type": "execute_result"
    }
   ],
   "source": [
    "result.mean(axis=1).size()"
   ]
  },
  {
   "cell_type": "code",
   "execution_count": 7,
   "id": "bc516696-64d6-482b-82a0-f34c07e6ae54",
   "metadata": {
    "tags": []
   },
   "outputs": [],
   "source": [
    "with torch.no_grad():\n",
    "    df_train['emb_bert'] = df_train['encode_bert'].apply(lambda x: model(x)[0])"
   ]
  },
  {
   "cell_type": "code",
   "execution_count": 35,
   "id": "37d3d833-44d7-4eac-9b90-fead8b98c01c",
   "metadata": {
    "tags": []
   },
   "outputs": [],
   "source": [
    "# Define Chargeback Text\n",
    "text = 'ACH DISPUTE' + '[SEP]' + 'Adjustment - Cr' + '[SEP]' + 'Misc. Credit Adjustment on ' + 'ACH Claim#' + '[SEP]' + 'Reversal'\n",
    "\n",
    "encode_text = tokenizer.encode(text, return_tensors='pt')\n",
    "with torch.no_grad():\n",
    "    emb_text = model(encode_text)[0]\n",
    "\n",
    "emb_text_mean = emb_text.mean(axis=1)"
   ]
  },
  {
   "cell_type": "code",
   "execution_count": 36,
   "id": "874320dd-352d-42ae-98f1-1ebc1436f6d0",
   "metadata": {
    "tags": []
   },
   "outputs": [],
   "source": [
    "# calculate cosine similarity\n",
    "df_train['similarity_bert'] = df_train['emb_bert'].apply(lambda x: torch.cosine_similarity(emb_text_mean, x.mean(axis=1)))\n",
    "df_train['similarity_bert'] = df_train['similarity_bert'].astype('float32')"
   ]
  },
  {
   "cell_type": "code",
   "execution_count": 37,
   "id": "0cc56387-191c-4fea-a92f-80eb90c50c8d",
   "metadata": {
    "tags": []
   },
   "outputs": [
    {
     "name": "stdout",
     "output_type": "stream",
     "text": [
      "Minimum cosine similarity between the comparison text and unauthorized description : 0.474\n"
     ]
    },
    {
     "data": {
      "image/png": "[encoded data removed]",
      "text/plain": [
       "<Figure size 200x300 with 1 Axes>"
      ]
     },
     "metadata": {},
     "output_type": "display_data"
    }
   ],
   "source": [
    "min_val = [df_train[df_train['unauth'] == 0]['similarity_bert'].min(), df_train[df_train['unauth'] == 1]['similarity_bert'].min()]\n",
    "max_val = [df_train[df_train['unauth'] == 0]['similarity_bert'].max(), df_train[df_train['unauth'] == 1]['similarity_bert'].max()]\n",
    "\n",
    "x = np.arange(2)\n",
    "\n",
    "fig = plt.figure(figsize = (2, 3))\n",
    "\n",
    "plt.bar(x, max_val, 0.1)\n",
    "plt.bar(x, min_val, 0.1, color='white')\n",
    "plt.axhline(y=df_train[df_train['unauth'] == 1]['similarity_bert'].min(), color='r', linestyle='--')\n",
    "plt.axhline(y=df_train[df_train['unauth'] == 1]['similarity_bert'].max(), color='r', linestyle='--')\n",
    "plt.axhline(y=df_train[df_train['unauth'] == 0]['similarity_bert'].max(), color='g', linestyle='--')\n",
    "plt.title('Range')\n",
    "\n",
    "minimum = round(df_train[df_train['unauth'] == 1]['similarity_bert'].min(),3)\n",
    "\n",
    "print(f'Minimum cosine similarity between the comparison text and unauthorized description : {minimum}')\n",
    "    "
   ]
  },
  {
   "cell_type": "code",
   "execution_count": 38,
   "id": "468c25c1-d118-450f-9963-878ee5562f49",
   "metadata": {
    "tags": []
   },
   "outputs": [
    {
     "data": {
      "image/png": "[encoded data removed]",
      "text/plain": [
       "<Figure size 600x300 with 1 Axes>"
      ]
     },
     "metadata": {},
     "output_type": "display_data"
    }
   ],
   "source": [
    "plt.figure(figsize = (6,3))\n",
    "\n",
    "# histogram of cosine similarity\n",
    "plt.hist(df_train[df_train['unauth'] == 0]['similarity_bert'], label = 'Non Unauthorized', fc = (1, 0, 0, 0.5))\n",
    "plt.hist(df_train[df_train['unauth'] == 1]['similarity_bert'], label = 'Unauthorized', fc=(0, 0, 0, 0.5))\n",
    "plt.xlabel('Similarity')\n",
    "plt.ylabel('Count')\n",
    "plt.title(f'Histogram of Cosine Similarity')\n",
    "plt.legend()\n",
    "plt.show()"
   ]
  },
  {
   "cell_type": "code",
   "execution_count": 44,
   "id": "616d7610-6fa0-4906-819b-e1164621b1bf",
   "metadata": {
    "tags": []
   },
   "outputs": [
    {
     "name": "stdout",
     "output_type": "stream",
     "text": [
      "Number of unauthorized transactions above 0.695 : 1322\n",
      "Poportion in terms of total unauthorized transactions : 61.37% \n",
      "\n",
      "Number of non unauthorized transactions above 0.695 : 155\n",
      "Poportion in terms of total non unauthorized transactions (False Positive Rate) : 5.45%\n"
     ]
    }
   ],
   "source": [
    "threshold = 0.695\n",
    "unauth = df_train[(df_train['unauth'] == 1) & (df_train['similarity_bert'] > threshold)].short_desc.count()\n",
    "total_unauth = df_train[(df_train['unauth'] == 1)].short_desc.count()\n",
    "\n",
    "fp_unauth = df_train[(df_train['unauth'] == 0) & (df_train['similarity_bert'] > threshold)].short_desc.count()\n",
    "total_not_unauth = df_train[(df_train['unauth'] == 0)].short_desc.count()\n",
    "\n",
    "print(f'Number of unauthorized transactions above {threshold} : {unauth}')\n",
    "print(f'Poportion in terms of total unauthorized transactions : {round(unauth*100/total_unauth,2)}% \\n')\n",
    "print(f'Number of non unauthorized transactions above {threshold} : {fp_unauth}')\n",
    "print(f'Poportion in terms of total non unauthorized transactions (False Positive Rate) : {round(fp_unauth*100/total_not_unauth,2)}%')"
   ]
  },
  {
   "cell_type": "code",
   "execution_count": 114,
   "id": "d08fffe6-fef0-488b-9a80-64e70c671012",
   "metadata": {
    "tags": []
   },
   "outputs": [
    {
     "data": {
      "image/png": "[encoded data removed]",
      "text/plain": [
       "<Figure size 2000x500 with 2 Axes>"
      ]
     },
     "metadata": {},
     "output_type": "display_data"
    },
    {
     "name": "stdout",
     "output_type": "stream",
     "text": [
      "Threshold : 0.695\n",
      "Recall : 0.61\n",
      "Precision : 0.9\n",
      "Accuracy : 0.8\n"
     ]
    }
   ],
   "source": [
    "# calculate true positive rate, false positive rate and precision\n",
    "x = np.arange(21)*0.05\n",
    "fpr = []\n",
    "precision = []\n",
    "accuracy = []\n",
    "recall = []\n",
    "\n",
    "for i in x:\n",
    "    threshold = i\n",
    "\n",
    "    tp = df_train[(df_train['unauth'] == 1) & (df_train['similarity_bert'] > threshold)].short_desc.count()\n",
    "    total_positive = df_train[(df_train['unauth'] == 1)].short_desc.count() # TP + FN\n",
    "    recall.append(tp/total_positive)\n",
    "    \n",
    "    fp = df_train[(df_train['unauth'] == 0) & (df_train['similarity_bert'] > threshold)].short_desc.count()\n",
    "    total_negative = df_train[(df_train['unauth'] == 0)].short_desc.count() # FP + TN\n",
    "    fpr.append(fp/total_negative)\n",
    "\n",
    "    precision.append(tp/(tp+fp))\n",
    "    \n",
    "    tn = df_train[(df_train['unauth'] == 0) & (df_train['similarity_bert'] < threshold)].short_desc.count()\n",
    "    total = df_train.short_desc.count()\n",
    "    accuracy.append((tp+tn)/total)\n",
    "    \n",
    "\n",
    "# plot curves\n",
    "figs, axs = plt.subplots(1, 2, figsize=(20, 5))\n",
    "\n",
    "axs[0].plot(x, precision, label='Precision')\n",
    "axs[0].plot(x, accuracy, label='Accuracy')\n",
    "axs[0].plot(x, recall, label='Recall')\n",
    "axs[0].set_xlabel('Threshold')\n",
    "axs[0].set_title('Recall, Precision, Accuracy')\n",
    "axs[0].legend()\n",
    "\n",
    "axs[1].plot(fpr, recall, label='ROC Curve')\n",
    "axs[1].set_xlabel('False Positive Rate')\n",
    "axs[1].set_ylabel('True Positive Rate')\n",
    "axs[1].set_title('ROC Curve')\n",
    "axs[1].legend()\n",
    "\n",
    "threshold = 0.695\n",
    "\n",
    "tp = df_train[(df_train['unauth']==1) & (df_train['similarity_bert']>threshold)].short_desc.count()\n",
    "fp = df_train[(df_train['unauth']==0) & (df_train['similarity_bert']>threshold)].short_desc.count()\n",
    "tn = df_train[(df_train['unauth']==0) & (df_train['similarity_bert']<threshold)].short_desc.count()\n",
    "fn = df_train[(df_train['unauth']==1) & (df_train['similarity_bert']<threshold)].short_desc.count()\n",
    "\n",
    "axs[0].axvline(x=threshold, color='gray', linestyle='--')\n",
    "axs[1].axvline(x=fp/(fp+tn), color='gray', linestyle='--')\n",
    "\n",
    "plt.show()\n",
    "\n",
    "print(f'Threshold : {threshold}')\n",
    "print(f'Recall : {round(tp/(tp+fn),2)}')\n",
    "print(f'Precision : {round(tp/(tp+fp),2)}') \n",
    "print(f'Accuracy : {round((tp+tn)/(tp+fp+tn+fn),2)}')"
   ]
  },
  {
   "cell_type": "markdown",
   "id": "f33dd46d-7ed3-4fcf-8190-d907b8e61661",
   "metadata": {},
   "source": [
    "### Sentence Transformer"
   ]
  },
  {
   "cell_type": "markdown",
   "id": "10a2976c-3d3d-4b24-9a04-9b9b6fc910e6",
   "metadata": {},
   "source": [
    "#### all-MiniLM-L6-v2"
   ]
  },
  {
   "cell_type": "code",
   "execution_count": 68,
   "id": "f0e07ec8-7e55-4dfd-afb8-bfd14e8fd5cf",
   "metadata": {
    "tags": []
   },
   "outputs": [],
   "source": [
    "model_sen = SentenceTransformer('all-MiniLM-L6-v2')"
   ]
  },
  {
   "cell_type": "code",
   "execution_count": 83,
   "id": "45d3b5b2-a2cc-4f55-a4a8-90c2f30fa766",
   "metadata": {
    "tags": []
   },
   "outputs": [],
   "source": [
    "df_train['emb_sen']=df_train['short_desc'].apply(lambda x: model_sen.encode(x))"
   ]
  },
  {
   "cell_type": "code",
   "execution_count": 84,
   "id": "854812b0-623e-48a0-99f5-37e29cba3156",
   "metadata": {
    "tags": []
   },
   "outputs": [],
   "source": [
    "# calculate cosine similarity\n",
    "text = 'ACH DISPUTE ' + 'Adjustment - Cr ' + 'Misc. Credit Adjustment on ' + 'ACH Claim# ' + 'Reversal'\n",
    "text_emb = model_sen.encode(text)\n",
    "\n",
    "df_train['similarity_sen'] = df_train['emb_sen'].apply(lambda x: util.cos_sim(x,text_emb))\n",
    "df_train['similarity_sen'] = df_train['similarity_sen'].astype('float32')"
   ]
  },
  {
   "cell_type": "code",
   "execution_count": 85,
   "id": "db6d7d36-39cb-4b85-bb59-67681f8b2d73",
   "metadata": {
    "tags": []
   },
   "outputs": [
    {
     "name": "stdout",
     "output_type": "stream",
     "text": [
      "Minimum cosine similarity between the comparison text and unauthorized description : 0.023\n"
     ]
    },
    {
     "data": {
      "image/png": "[encoded data removed]",
      "text/plain": [
       "<Figure size 200x300 with 1 Axes>"
      ]
     },
     "metadata": {},
     "output_type": "display_data"
    }
   ],
   "source": [
    "min_val = [df_train[df_train['unauth'] == 0]['similarity_sen'].min(), df_train[df_train['unauth'] == 1]['similarity_sen'].min()]\n",
    "max_val = [df_train[df_train['unauth'] == 0]['similarity_sen'].max(), df_train[df_train['unauth'] == 1]['similarity_sen'].max()]\n",
    "\n",
    "x = np.arange(2)\n",
    "\n",
    "fig = plt.figure(figsize = (2, 3))\n",
    "\n",
    "plt.bar(x, max_val, 0.1)\n",
    "plt.bar(x, min_val, 0.1, color='white')\n",
    "plt.axhline(y=df_train[df_train['unauth'] == 1]['similarity_sen'].min(), color='r', linestyle='--')\n",
    "plt.axhline(y=df_train[df_train['unauth'] == 1]['similarity_sen'].max(), color='r', linestyle='--')\n",
    "plt.axhline(y=df_train[df_train['unauth'] == 0]['similarity_sen'].max(), color='g', linestyle='--')\n",
    "plt.title('Range')\n",
    "\n",
    "minimum = round(df_train[df_train['unauth'] == 1]['similarity_sen'].min(),3)\n",
    "\n",
    "print(f'Minimum cosine similarity between the comparison text and unauthorized description : {minimum}')\n",
    "    "
   ]
  },
  {
   "cell_type": "code",
   "execution_count": 86,
   "id": "6b16ae69-a354-4975-810c-d137386f00da",
   "metadata": {
    "tags": []
   },
   "outputs": [
    {
     "data": {
      "image/png": "[encoded data removed]",
      "text/plain": [
       "<Figure size 600x300 with 1 Axes>"
      ]
     },
     "metadata": {},
     "output_type": "display_data"
    }
   ],
   "source": [
    "plt.figure(figsize = (6,3))\n",
    "\n",
    "# histogram of cosine similarity\n",
    "plt.hist(df_train[df_train['unauth'] == 0]['similarity_sen'], label = 'Non Unauthorized', fc = (1, 0, 0, 0.5))\n",
    "plt.hist(df_train[df_train['unauth'] == 1]['similarity_sen'], label = 'Unauthorized', fc=(0, 0, 0, 0.5))\n",
    "plt.xlabel('Similarity')\n",
    "plt.ylabel('Count')\n",
    "plt.title(f'Histogram of Cosine Similarity')\n",
    "plt.legend()\n",
    "plt.show()"
   ]
  },
  {
   "cell_type": "code",
   "execution_count": 87,
   "id": "1608571a-0f50-4bc6-bc68-cfa8d5444bd0",
   "metadata": {
    "tags": []
   },
   "outputs": [
    {
     "name": "stdout",
     "output_type": "stream",
     "text": [
      "Number of unauthorized transactions above 0.3 : 1772\n",
      "Poportion in terms of total unauthorized transactions : 82.27% \n",
      "\n",
      "Number of non unauthorized transactions above 0.3 : 145\n",
      "Poportion in terms of total non unauthorized transactions (False Positive Rate) : 5.09%\n"
     ]
    }
   ],
   "source": [
    "threshold = 0.3\n",
    "unauth = df_train[(df_train['unauth'] == 1) & (df_train['similarity_sen'] > threshold)].short_desc.count()\n",
    "total_unauth = df_train[(df_train['unauth'] == 1)].short_desc.count()\n",
    "\n",
    "fp_unauth = df_train[(df_train['unauth'] == 0) & (df_train['similarity_sen'] > threshold)].short_desc.count()\n",
    "total_not_unauth = df_train[(df_train['unauth'] == 0)].short_desc.count()\n",
    "\n",
    "print(f'Number of unauthorized transactions above {threshold} : {unauth}')\n",
    "print(f'Poportion in terms of total unauthorized transactions : {round(unauth*100/total_unauth,2)}% \\n')\n",
    "print(f'Number of non unauthorized transactions above {threshold} : {fp_unauth}')\n",
    "print(f'Poportion in terms of total non unauthorized transactions (False Positive Rate) : {round(fp_unauth*100/total_not_unauth,2)}%')"
   ]
  },
  {
   "cell_type": "code",
   "execution_count": 111,
   "id": "c9e6e83f-c5d0-4478-8872-e1a0bd318f0c",
   "metadata": {
    "tags": []
   },
   "outputs": [
    {
     "data": {
      "image/png": "[encoded data removed]",
      "text/plain": [
       "<Figure size 2000x500 with 2 Axes>"
      ]
     },
     "metadata": {},
     "output_type": "display_data"
    },
    {
     "name": "stdout",
     "output_type": "stream",
     "text": [
      "Threshold : 0.3\n",
      "Recall : 0.82\n",
      "Precision : 0.92\n",
      "Accuracy : 0.89\n"
     ]
    }
   ],
   "source": [
    "# calculate true positive rate, false positive rate and precision\n",
    "x = np.arange(21)*0.05\n",
    "fpr = []\n",
    "precision = []\n",
    "accuracy = []\n",
    "recall = []\n",
    "\n",
    "for i in x:\n",
    "    threshold = i\n",
    "\n",
    "    tp = df_train[(df_train['unauth'] == 1) & (df_train['similarity_sen'] > threshold)].short_desc.count()\n",
    "    total_positive = df_train[(df_train['unauth'] == 1)].short_desc.count() # TP + FN\n",
    "    recall.append(tp/total_positive)\n",
    "    \n",
    "    fp = df_train[(df_train['unauth'] == 0) & (df_train['similarity_sen'] > threshold)].short_desc.count()\n",
    "    total_negative = df_train[(df_train['unauth'] == 0)].short_desc.count() # FP + TN\n",
    "    fpr.append(fp/total_negative)\n",
    "\n",
    "    precision.append(tp/(tp+fp))\n",
    "    \n",
    "    tn = df_train[(df_train['unauth'] == 0) & (df_train['similarity_sen'] < threshold)].short_desc.count()\n",
    "    total = df_train.short_desc.count()\n",
    "    accuracy.append((tp+tn)/total)\n",
    "    \n",
    "\n",
    "# plot curves\n",
    "figs, axs = plt.subplots(1, 2, figsize=(20, 5))\n",
    "\n",
    "axs[0].plot(x, precision, label='Precision')\n",
    "axs[0].plot(x, accuracy, label='Accuracy')\n",
    "axs[0].plot(x, recall, label='Recall')\n",
    "axs[0].set_xlabel('Threshold')\n",
    "axs[0].set_title('Recall, Precision, Accuracy')\n",
    "axs[0].legend()\n",
    "\n",
    "axs[1].plot(fpr, recall, label='ROC Curve')\n",
    "axs[1].set_xlabel('False Positive Rate')\n",
    "axs[1].set_ylabel('True Positive Rate')\n",
    "axs[1].set_title('ROC Curve')\n",
    "axs[1].legend()\n",
    "\n",
    "threshold = 0.3\n",
    "\n",
    "tp = df_train[(df_train['unauth']==1) & (df_train['similarity_sen']>threshold)].short_desc.count()\n",
    "fp = df_train[(df_train['unauth']==0) & (df_train['similarity_sen']>threshold)].short_desc.count()\n",
    "tn = df_train[(df_train['unauth']==0) & (df_train['similarity_sen']<threshold)].short_desc.count()\n",
    "fn = df_train[(df_train['unauth']==1) & (df_train['similarity_sen']<threshold)].short_desc.count()\n",
    "\n",
    "axs[0].axvline(x=threshold, color='gray', linestyle='--')\n",
    "axs[1].axvline(x=fp/(fp+tn), color='gray', linestyle='--')\n",
    "\n",
    "plt.show()\n",
    "\n",
    "print(f'Threshold : {threshold}')\n",
    "print(f'Recall : {round(tp/(tp+fn),2)}')\n",
    "print(f'Precision : {round(tp/(tp+fp),2)}') \n",
    "print(f'Accuracy : {round((tp+tn)/(tp+fp+tn+fn),2)}')"
   ]
  },
  {
   "cell_type": "markdown",
   "id": "00d83130-ca90-4457-b5e1-0211d388552c",
   "metadata": {},
   "source": [
    "#### multi-qa-mpnet-base-dot-v1"
   ]
  },
  {
   "cell_type": "code",
   "execution_count": 92,
   "id": "4dd546fb-f36f-4412-a561-8bc0278ee785",
   "metadata": {
    "tags": []
   },
   "outputs": [],
   "source": [
    "model_search = SentenceTransformer('multi-qa-mpnet-base-dot-v1')"
   ]
  },
  {
   "cell_type": "code",
   "execution_count": 93,
   "id": "f26963b1-635c-4f31-a3bb-6220face8542",
   "metadata": {
    "tags": []
   },
   "outputs": [],
   "source": [
    "df_train['emb_search']=df_train['short_desc'].apply(lambda x: model_search.encode(x))"
   ]
  },
  {
   "cell_type": "code",
   "execution_count": 94,
   "id": "d6984271-19ee-41fc-98cf-36c01f72aeaf",
   "metadata": {
    "tags": []
   },
   "outputs": [],
   "source": [
    "# calculate cosine similarity\n",
    "text = 'ACH DISPUTE ' + 'Adjustment - Cr ' + 'Misc. Credit Adjustment on ' + 'ACH Claim# ' + 'Reversal'\n",
    "text_emb = model_search.encode(text)\n",
    "\n",
    "df_train['similarity_search'] = df_train['emb_search'].apply(lambda x: util.dot_score(x,text_emb))\n",
    "df_train['similarity_search'] = df_train['similarity_search'].astype('float32')"
   ]
  },
  {
   "cell_type": "code",
   "execution_count": 95,
   "id": "c8fa3724-fd35-47e2-90a2-bb8490f64a10",
   "metadata": {
    "tags": []
   },
   "outputs": [
    {
     "name": "stdout",
     "output_type": "stream",
     "text": [
      "Minimum cosine similarity between the comparison text and unauthorized description : 9.956\n"
     ]
    },
    {
     "data": {
      "image/png": "[encoded data removed]",
      "text/plain": [
       "<Figure size 200x300 with 1 Axes>"
      ]
     },
     "metadata": {},
     "output_type": "display_data"
    }
   ],
   "source": [
    "min_val = [df_train[df_train['unauth'] == 0]['similarity_search'].min(), df_train[df_train['unauth'] == 1]['similarity_search'].min()]\n",
    "max_val = [df_train[df_train['unauth'] == 0]['similarity_search'].max(), df_train[df_train['unauth'] == 1]['similarity_search'].max()]\n",
    "\n",
    "x = np.arange(2)\n",
    "\n",
    "fig = plt.figure(figsize = (2, 3))\n",
    "\n",
    "plt.bar(x, max_val, 0.1)\n",
    "plt.bar(x, min_val, 0.1, color='white')\n",
    "plt.axhline(y=df_train[df_train['unauth'] == 1]['similarity_search'].min(), color='r', linestyle='--')\n",
    "plt.axhline(y=df_train[df_train['unauth'] == 1]['similarity_search'].max(), color='r', linestyle='--')\n",
    "plt.axhline(y=df_train[df_train['unauth'] == 0]['similarity_search'].max(), color='g', linestyle='--')\n",
    "plt.title('Range')\n",
    "\n",
    "minimum = round(df_train[df_train['unauth'] == 1]['similarity_search'].min(),3)\n",
    "\n",
    "print(f'Minimum cosine similarity between the comparison text and unauthorized description : {minimum}')\n",
    "    "
   ]
  },
  {
   "cell_type": "code",
   "execution_count": 96,
   "id": "0c501d28-cf14-496e-8fdf-0926b3d8c28c",
   "metadata": {
    "tags": []
   },
   "outputs": [
    {
     "data": {
      "image/png": "[encoded data removed]",
      "text/plain": [
       "<Figure size 600x300 with 1 Axes>"
      ]
     },
     "metadata": {},
     "output_type": "display_data"
    }
   ],
   "source": [
    "plt.figure(figsize = (6,3))\n",
    "\n",
    "# histogram of cosine similarity\n",
    "plt.hist(df_train[df_train['unauth'] == 0]['similarity_search'], label = 'Non Unauthorized', fc = (1, 0, 0, 0.5))\n",
    "plt.hist(df_train[df_train['unauth'] == 1]['similarity_search'], label = 'Unauthorized', fc=(0, 0, 0, 0.5))\n",
    "plt.xlabel('Similarity')\n",
    "plt.ylabel('Count')\n",
    "plt.title(f'Histogram of Cosine Similarity')\n",
    "plt.legend()\n",
    "plt.show()"
   ]
  },
  {
   "cell_type": "code",
   "execution_count": 97,
   "id": "11b59eeb-6b02-4f2b-99d6-cbbbef4ba58b",
   "metadata": {
    "tags": []
   },
   "outputs": [
    {
     "name": "stdout",
     "output_type": "stream",
     "text": [
      "Number of unauthorized transactions above 16.5 : 1603\n",
      "Poportion in terms of total unauthorized transactions : 74.42% \n",
      "\n",
      "Number of non unauthorized transactions above 16.5 : 162\n",
      "Poportion in terms of total non unauthorized transactions (False Positive Rate) : 5.69%\n"
     ]
    }
   ],
   "source": [
    "threshold = 16.5\n",
    "unauth = df_train[(df_train['unauth'] == 1) & (df_train['similarity_search'] > threshold)].short_desc.count()\n",
    "total_unauth = df_train[(df_train['unauth'] == 1)].short_desc.count()\n",
    "\n",
    "fp_unauth = df_train[(df_train['unauth'] == 0) & (df_train['similarity_search'] > threshold)].short_desc.count()\n",
    "total_not_unauth = df_train[(df_train['unauth'] == 0)].short_desc.count()\n",
    "\n",
    "print(f'Number of unauthorized transactions above {threshold} : {unauth}')\n",
    "print(f'Poportion in terms of total unauthorized transactions : {round(unauth*100/total_unauth,2)}% \\n')\n",
    "print(f'Number of non unauthorized transactions above {threshold} : {fp_unauth}')\n",
    "print(f'Poportion in terms of total non unauthorized transactions (False Positive Rate) : {round(fp_unauth*100/total_not_unauth,2)}%')"
   ]
  },
  {
   "cell_type": "code",
   "execution_count": 113,
   "id": "224da1cc-3e36-4c79-8b3c-aba42921b756",
   "metadata": {
    "tags": []
   },
   "outputs": [
    {
     "data": {
      "image/png": "[encoded data removed]",
      "text/plain": [
       "<Figure size 2000x500 with 2 Axes>"
      ]
     },
     "metadata": {},
     "output_type": "display_data"
    },
    {
     "name": "stdout",
     "output_type": "stream",
     "text": [
      "Threshold : 16.5\n",
      "Recall : 0.74\n",
      "Precision : 0.91\n",
      "Accuracy : 0.86\n"
     ]
    }
   ],
   "source": [
    "# calculate true positive rate, false positive rate and precision\n",
    "x = np.arange(35)\n",
    "fpr = []\n",
    "precision = []\n",
    "accuracy = []\n",
    "recall = []\n",
    "\n",
    "for i in x:\n",
    "    threshold = i\n",
    "\n",
    "    tp = df_train[(df_train['unauth'] == 1) & (df_train['similarity_search'] > threshold)].short_desc.count()\n",
    "    total_positive = df_train[(df_train['unauth'] == 1)].short_desc.count() # TP + FN\n",
    "    recall.append(tp/total_positive)\n",
    "    \n",
    "    fp = df_train[(df_train['unauth'] == 0) & (df_train['similarity_search'] > threshold)].short_desc.count()\n",
    "    total_negative = df_train[(df_train['unauth'] == 0)].short_desc.count() # FP + TN\n",
    "    fpr.append(fp/total_negative)\n",
    "\n",
    "    precision.append(tp/(tp+fp))\n",
    "    \n",
    "    tn = df_train[(df_train['unauth'] == 0) & (df_train['similarity_search'] < threshold)].short_desc.count()\n",
    "    total = df_train.short_desc.count()\n",
    "    accuracy.append((tp+tn)/total)\n",
    "    \n",
    "\n",
    "# plot curves\n",
    "figs, axs = plt.subplots(1, 2, figsize=(20, 5))\n",
    "\n",
    "axs[0].plot(x, precision, label='Precision')\n",
    "axs[0].plot(x, accuracy, label='Accuracy')\n",
    "axs[0].plot(x, recall, label='Recall')\n",
    "axs[0].set_xlabel('Threshold')\n",
    "axs[0].set_title('Recall, Precision, Accuracy')\n",
    "axs[0].legend()\n",
    "\n",
    "axs[1].plot(fpr, recall, label='ROC Curve')\n",
    "axs[1].set_xlabel('False Positive Rate')\n",
    "axs[1].set_ylabel('True Positive Rate')\n",
    "axs[1].set_title('ROC Curve')\n",
    "axs[1].legend()\n",
    "\n",
    "threshold = 16.5\n",
    "\n",
    "tp = df_train[(df_train['unauth']==1) & (df_train['similarity_search']>threshold)].short_desc.count()\n",
    "fp = df_train[(df_train['unauth']==0) & (df_train['similarity_search']>threshold)].short_desc.count()\n",
    "tn = df_train[(df_train['unauth']==0) & (df_train['similarity_search']<threshold)].short_desc.count()\n",
    "fn = df_train[(df_train['unauth']==1) & (df_train['similarity_search']<threshold)].short_desc.count()\n",
    "\n",
    "axs[0].axvline(x=threshold, color='gray', linestyle='--')\n",
    "axs[1].axvline(x=fp/(fp+tn), color='gray', linestyle='--')\n",
    "\n",
    "plt.show()\n",
    "\n",
    "print(f'Threshold : {threshold}')\n",
    "print(f'Recall : {round(tp/(tp+fn),2)}')\n",
    "print(f'Precision : {round(tp/(tp+fp),2)}') \n",
    "print(f'Accuracy : {round((tp+tn)/(tp+fp+tn+fn),2)}')"
   ]
  },
  {
   "cell_type": "markdown",
   "id": "e1528b33-054f-4eff-9929-0430d3a831c7",
   "metadata": {},
   "source": [
    "# Testing"
   ]
  },
  {
   "cell_type": "code",
   "execution_count": 115,
   "id": "d1e66c78-9e06-4514-a566-7022bb765dfd",
   "metadata": {
    "tags": []
   },
   "outputs": [],
   "source": [
    "# create testing data without Chime Bank\n",
    "df_test = df[df['bank_name']!='Chime Bank']\n",
    "df_test = df_test[['description', 'short_desc', 'bank_name', 'unauth']][5000:] "
   ]
  },
  {
   "cell_type": "markdown",
   "id": "bb6f8dda-b460-4522-94e4-600f52c987b2",
   "metadata": {},
   "source": [
    "## BERT"
   ]
  },
  {
   "cell_type": "code",
   "execution_count": 117,
   "id": "ce8764ff-3828-473a-9055-8965e54f9673",
   "metadata": {
    "tags": []
   },
   "outputs": [],
   "source": [
    "df_test['encode_bert']=df_test['short_desc'].apply(lambda x: tokenizer.encode(x, \n",
    "                                                                              truncation = True,\n",
    "                                                                              max_length=512,\n",
    "                                                                              return_tensors='pt'))"
   ]
  },
  {
   "cell_type": "code",
   "execution_count": 118,
   "id": "4dba7a40-1df2-4354-b5c7-b760fc591e77",
   "metadata": {
    "tags": []
   },
   "outputs": [],
   "source": [
    "with torch.no_grad():\n",
    "    df_test['emb_bert'] = df_test['encode_bert'].apply(lambda x: model(x)[0])"
   ]
  },
  {
   "cell_type": "code",
   "execution_count": 199,
   "id": "b8a02aae-22f6-4299-a19c-e9dd99fccc0e",
   "metadata": {
    "tags": []
   },
   "outputs": [],
   "source": [
    "# Define Chargeback Text\n",
    "text = 'ACH DISPUTE' + '[SEP]' + 'Adjustment - Cr ' + '[SEP]' + 'Misc. Credit Adjustment on ' + 'ACH Claim#' + '[SEP]' + 'Reversal'\n",
    "\n",
    "encode_text = tokenizer.encode(text, return_tensors='pt')\n",
    "with torch.no_grad():\n",
    "    emb_text = model(encode_text)[0]\n",
    "\n",
    "emb_text_mean = emb_text.mean(axis=1)"
   ]
  },
  {
   "cell_type": "code",
   "execution_count": 200,
   "id": "aafef262-17ca-465d-941c-8dc7ddfa54c0",
   "metadata": {
    "tags": []
   },
   "outputs": [],
   "source": [
    "# calculate cosine similarity\n",
    "df_test['similarity_bert'] = df_test['emb_bert'].apply(lambda x: torch.cosine_similarity(emb_text_mean, x.mean(axis=1)))\n",
    "df_test['similarity_bert'] = df_test['similarity_bert'].astype('float32')\n",
    "\n",
    "# make prediction ; 1 = chargeback/unauth , 0 = good transaction\n",
    "threshold_bert = 0.695\n",
    "df_test['pred_bert'] = df_test['similarity_bert'].apply(lambda x: 1 if x>= threshold_bert else 0)"
   ]
  },
  {
   "cell_type": "code",
   "execution_count": 202,
   "id": "1153e0e8-49da-4f1b-a59b-1fe34a5d6048",
   "metadata": {
    "tags": []
   },
   "outputs": [
    {
     "name": "stdout",
     "output_type": "stream",
     "text": [
      "BERT Model Prediction:\n",
      "Recall : 0.62\n",
      "Precision : 0.88\n",
      "Accuracy : 0.8\n"
     ]
    }
   ],
   "source": [
    "# evaluate\n",
    "tp = df_test[(df_test['unauth']==1) & (df_test['pred_bert']==1)].count()[0]\n",
    "fp = df_test[(df_test['unauth']==0) & (df_test['pred_bert']==1)].count()[0]\n",
    "tn = df_test[(df_test['unauth']==0) & (df_test['pred_bert']==0)].count()[0]\n",
    "fn = df_test[(df_test['unauth']==1) & (df_test['pred_bert']==0)].count()[0]\n",
    "\n",
    "print(f'BERT Model Prediction:')\n",
    "print(f'Recall : {round(tp/(tp+fn),2)}')\n",
    "print(f'Precision : {round(tp/(tp+fp),2)}')\n",
    "print(f'Accuracy : {round((tp+tn)/(tp+tn+fp+fn),2)}')"
   ]
  },
  {
   "cell_type": "markdown",
   "id": "d2c54299-cbc3-46d2-a86b-d1d5abbc5db0",
   "metadata": {},
   "source": [
    "## Sentence Transformer : all-MiniLM-L6-v2"
   ]
  },
  {
   "cell_type": "code",
   "execution_count": 122,
   "id": "66197b8f-10cf-46b6-ad0c-765cc7e2b1e5",
   "metadata": {
    "tags": []
   },
   "outputs": [],
   "source": [
    "df_test['emb_sen']=df_test['short_desc'].apply(lambda x: model_sen.encode(x))"
   ]
  },
  {
   "cell_type": "code",
   "execution_count": 124,
   "id": "50278b08-2724-4785-8393-a03b6c1ee786",
   "metadata": {
    "tags": []
   },
   "outputs": [],
   "source": [
    "# calculate cosine similarity\n",
    "text = 'ACH DISPUTE ' + 'Adjustment - Cr ' + 'Misc. Credit Adjustment on ' + 'ACH Claim# ' + 'Reversal'\n",
    "text_emb = model_sen.encode(text)\n",
    "\n",
    "df_test['similarity_sen'] = df_test['emb_sen'].apply(lambda x: util.cos_sim(x,text_emb))\n",
    "df_test['similarity_sen'] = df_test['similarity_sen'].astype('float32')\n",
    "\n",
    "# make prediction ; 1 = chargeback/unauth , 0 = good transaction\n",
    "threshold_sen = 0.3\n",
    "df_test['pred_sen'] = df_test['similarity_sen'].apply(lambda x: 1 if x>= threshold_sen else 0)"
   ]
  },
  {
   "cell_type": "code",
   "execution_count": 217,
   "id": "3225b461-821d-4910-8e92-c59ac015ccc2",
   "metadata": {
    "tags": []
   },
   "outputs": [
    {
     "name": "stdout",
     "output_type": "stream",
     "text": [
      "Sentence Transformer - all-MiniLM-L6-v2 - Prediction:\n",
      "Recall : 0.83\n",
      "Precision : 0.93\n",
      "Accuracy : 0.9\n"
     ]
    }
   ],
   "source": [
    "#evaluate\n",
    "tp = df_test[(df_test['unauth']==1) & (df_test['pred_sen']==1)].count()[0]\n",
    "fp = df_test[(df_test['unauth']==0) & (df_test['pred_sen']==1)].count()[0]\n",
    "tn = df_test[(df_test['unauth']==0) & (df_test['pred_sen']==0)].count()[0]\n",
    "fn = df_test[(df_test['unauth']==1) & (df_test['pred_sen']==0)].count()[0]\n",
    "\n",
    "print(f'Sentence Transformer - all-MiniLM-L6-v2 - Prediction:')\n",
    "print(f'Recall : {round(tp/(tp+fn),2)}')\n",
    "print(f'Precision : {round(tp/(tp+fp),2)}')\n",
    "print(f'Accuracy : {round((tp+tn)/(tp+tn+fp+fn),2)}')"
   ]
  },
  {
   "cell_type": "markdown",
   "id": "100ddce4-6947-41b8-a4ed-b07f55eb66c0",
   "metadata": {},
   "source": [
    "## Sentence Transformer : multi-qa-mpnet-base-dot-v1"
   ]
  },
  {
   "cell_type": "code",
   "execution_count": 126,
   "id": "98e826b9-b01d-41fe-aec1-4518477b6081",
   "metadata": {
    "tags": []
   },
   "outputs": [],
   "source": [
    "df_test['emb_search']=df_test['short_desc'].apply(lambda x: model_search.encode(x))"
   ]
  },
  {
   "cell_type": "code",
   "execution_count": 210,
   "id": "8ce8c0da-429f-43aa-9564-7a42bbaa79d2",
   "metadata": {
    "tags": []
   },
   "outputs": [],
   "source": [
    "# calculate cosine similarity\n",
    "text = 'ACH DISPUTE ' + 'Adjustment - Cr ' + 'Misc. Credit Adjustment on ' + 'ACH Claim# ' + 'Reversal'\n",
    "text_emb = model_search.encode(text)\n",
    "\n",
    "df_test['similarity_search'] = df_test['emb_search'].apply(lambda x: util.dot_score(x,text_emb))\n",
    "df_test['similarity_search'] = df_test['similarity_search'].astype('float32')\n",
    "\n",
    "# make prediction ; 1 = chargeback/unauth , 0 = good transaction\n",
    "threshold_search = 16.5\n",
    "df_test['pred_search'] = df_test['similarity_search'].apply(lambda x: 1 if x>= threshold_search else 0)"
   ]
  },
  {
   "cell_type": "code",
   "execution_count": 218,
   "id": "af2a8a51-36bc-48e8-b2f0-b80fc0fe1f8a",
   "metadata": {
    "tags": []
   },
   "outputs": [
    {
     "name": "stdout",
     "output_type": "stream",
     "text": [
      "Sentence Transformer - multi-qa-mpnet-base-dot-v1 - Prediction:\n",
      "Recall : 0.76\n",
      "Precision : 0.91\n",
      "Accuracy : 0.86\n"
     ]
    }
   ],
   "source": [
    "#evaluate\n",
    "tp = df_test[(df_test['unauth']==1) & (df_test['pred_search']==1)].count()[0]\n",
    "fp = df_test[(df_test['unauth']==0) & (df_test['pred_search']==1)].count()[0]\n",
    "tn = df_test[(df_test['unauth']==0) & (df_test['pred_search']==0)].count()[0]\n",
    "fn = df_test[(df_test['unauth']==1) & (df_test['pred_search']==0)].count()[0]\n",
    "\n",
    "print(f'Sentence Transformer - multi-qa-mpnet-base-dot-v1 - Prediction:')\n",
    "print(f'Recall : {round(tp/(tp+fn),2)}')\n",
    "print(f'Precision : {round(tp/(tp+fp),2)}')\n",
    "print(f'Accuracy : {round((tp+tn)/(tp+tn+fp+fn),2)}')"
   ]
  },
  {
   "cell_type": "markdown",
   "id": "fb0fcb9d-e271-46d9-b234-fd69e84ff56f",
   "metadata": {},
   "source": [
    "#### BERT"
   ]
  },
  {
   "cell_type": "markdown",
   "id": "3e9d7000-4501-4b3b-99af-cc42b47c97de",
   "metadata": {},
   "source": [
    "## Testing Data for Chime Bank"
   ]
  },
  {
   "cell_type": "code",
   "execution_count": 145,
   "id": "183a59fa-eb76-4a1a-bb9c-fd9f91aa596d",
   "metadata": {
    "tags": []
   },
   "outputs": [],
   "source": [
    "# create testing data without Chime Bank\n",
    "df_chime = df[df['bank_name'] == 'Chime Bank'][['description', 'short_desc', 'bank_name', 'unauth']]"
   ]
  },
  {
   "cell_type": "markdown",
   "id": "892e9bca-b4c0-48cf-8a8c-1e44443226b4",
   "metadata": {},
   "source": [
    "### BERT Model"
   ]
  },
  {
   "cell_type": "code",
   "execution_count": 146,
   "id": "61b749cf-8963-4dd2-9a14-a84cd58f73d3",
   "metadata": {
    "tags": []
   },
   "outputs": [],
   "source": [
    "df_chime['encode_bert']=df_chime['short_desc'].apply(lambda x: tokenizer.encode(x, \n",
    "                                                                                truncation = True,\n",
    "                                                                                max_length=512,\n",
    "                                                                                return_tensors='pt'))"
   ]
  },
  {
   "cell_type": "code",
   "execution_count": 147,
   "id": "c678e56b-75ff-46e1-a41b-5da0e85c9d81",
   "metadata": {
    "tags": []
   },
   "outputs": [],
   "source": [
    "with torch.no_grad():\n",
    "    df_chime['emb_bert'] = df_chime['encode_bert'].apply(lambda x: model(x)[0])"
   ]
  },
  {
   "cell_type": "code",
   "execution_count": 212,
   "id": "9438ce45-59b8-4ded-b8ae-d2aae4c59d91",
   "metadata": {
    "tags": []
   },
   "outputs": [],
   "source": [
    "# Define Chargeback Text\n",
    "text = 'ACH DISPUTE' + '[SEP]' + 'Adjustment - Cr ' + '[SEP]' + 'Misc. Credit Adjustment on ' + 'ACH Claim#' + '[SEP]' + 'Reversal'\n",
    "\n",
    "encode_text = tokenizer.encode(text, return_tensors='pt')\n",
    "with torch.no_grad():\n",
    "    emb_text = model(encode_text)[0]\n",
    "\n",
    "emb_text_mean = emb_text.mean(axis=1)"
   ]
  },
  {
   "cell_type": "code",
   "execution_count": 213,
   "id": "d3393fee-973e-4f4c-a3e9-f4a29658ff23",
   "metadata": {
    "tags": []
   },
   "outputs": [],
   "source": [
    "# calculate cosine similarity\n",
    "df_chime['similarity_bert'] = df_chime['emb_bert'].apply(lambda x: torch.cosine_similarity(emb_text_mean, x.mean(axis=1)))\n",
    "df_chime['similarity_bert'] = df_chime['similarity_bert'].astype('float32')\n",
    "\n",
    "# make prediction ; 1 = chargeback/unauth , 0 = good transaction\n",
    "threshold_bert = 0.695\n",
    "df_chime['pred_bert'] = df_chime['similarity_bert'].apply(lambda x: 1 if x>= threshold_bert else 0)"
   ]
  },
  {
   "cell_type": "code",
   "execution_count": 222,
   "id": "c01b9664-4756-4d5e-9ad2-3534165f0434",
   "metadata": {
    "tags": []
   },
   "outputs": [
    {
     "name": "stdout",
     "output_type": "stream",
     "text": [
      "BERT Model Prediction:\n",
      "Recall : 0.2\n",
      "Precision : 0.85\n",
      "Accuracy : 0.47\n"
     ]
    }
   ],
   "source": [
    "# evaluate\n",
    "tp = df_chime[(df_chime['unauth']==1) & (df_chime['pred_bert']==1)].count()[0]\n",
    "fp = df_chime[(df_chime['unauth']==0) & (df_chime['pred_bert']==1)].count()[0]\n",
    "tn = df_chime[(df_chime['unauth']==0) & (df_chime['pred_bert']==0)].count()[0]\n",
    "fn = df_chime[(df_chime['unauth']==1) & (df_chime['pred_bert']==0)].count()[0]\n",
    "\n",
    "print(f'BERT Model Prediction:')\n",
    "print(f'Recall : {round(tp/(tp+fn),2)}')\n",
    "print(f'Precision : {round(tp/(tp+fp),2)}')\n",
    "print(f'Accuracy : {round((tp+tn)/(tp+tn+fp+fn),2)}')"
   ]
  },
  {
   "cell_type": "markdown",
   "id": "6219879a-7dd4-4f49-96b6-5e44cf2d9eac",
   "metadata": {},
   "source": [
    "### Sentence Transformer : all-MiniLM-L6-v2"
   ]
  },
  {
   "cell_type": "code",
   "execution_count": 150,
   "id": "e0d74f70-a06b-446b-bee7-01ca19b1bd83",
   "metadata": {
    "tags": []
   },
   "outputs": [],
   "source": [
    "df_chime['emb_sen']=df_chime['short_desc'].apply(lambda x: model_sen.encode(x))"
   ]
  },
  {
   "cell_type": "code",
   "execution_count": 151,
   "id": "877b0981-026a-434a-b5b3-2d48b37dad61",
   "metadata": {
    "tags": []
   },
   "outputs": [],
   "source": [
    "# calculate cosine similarity\n",
    "text = 'ACH DISPUTE ' + 'Adjustment - Cr ' + 'Misc. Credit Adjustment on ' + 'ACH Claim# ' + 'Reversal'\n",
    "text_emb = model_sen.encode(text)\n",
    "\n",
    "df_chime['similarity_sen'] = df_chime['emb_sen'].apply(lambda x: util.cos_sim(x,text_emb))\n",
    "df_chime['similarity_sen'] = df_chime['similarity_sen'].astype('float32')\n",
    "\n",
    "# make prediction ; 1 = chargeback/unauth , 0 = good transaction\n",
    "threshold_sen = 0.3\n",
    "df_chime['pred_sen'] = df_chime['similarity_sen'].apply(lambda x: 1 if x>= threshold_sen else 0)"
   ]
  },
  {
   "cell_type": "code",
   "execution_count": 248,
   "id": "72bf10f8-1b77-4d2c-b573-b09890e78ae4",
   "metadata": {
    "tags": []
   },
   "outputs": [
    {
     "name": "stdout",
     "output_type": "stream",
     "text": [
      "Sentence Transformer - all-MiniLM-L6-v2 - Prediction:\n",
      "Recall : 0.00165\n",
      "Precision : 0.05\n",
      "Accuracy : 0.34\n"
     ]
    }
   ],
   "source": [
    "# evaluate\n",
    "tp = df_chime[(df_chime['unauth']==1) & (df_chime['pred_sen']==1)].count()[0]\n",
    "fp = df_chime[(df_chime['unauth']==0) & (df_chime['pred_sen']==1)].count()[0]\n",
    "tn = df_chime[(df_chime['unauth']==0) & (df_chime['pred_sen']==0)].count()[0]\n",
    "fn = df_chime[(df_chime['unauth']==1) & (df_chime['pred_sen']==0)].count()[0]\n",
    "\n",
    "print(f'Sentence Transformer - all-MiniLM-L6-v2 - Prediction:')\n",
    "print(f'Recall : {round(tp/(tp+fn),5)}')\n",
    "print(f'Precision : {round(tp/(tp+fp),2)}')\n",
    "print(f'Accuracy : {round((tp+tn)/(tp+tn+fp+fn),2)}')"
   ]
  },
  {
   "cell_type": "markdown",
   "id": "1643231d-f77d-4541-a5dd-44c4ada6df82",
   "metadata": {},
   "source": [
    "### Sentence Transformer : multi-qa-mpnet-base-dot-v1"
   ]
  },
  {
   "cell_type": "code",
   "execution_count": 152,
   "id": "b7f6d7ba-e615-4188-80c9-2fb7b7ee561c",
   "metadata": {
    "tags": []
   },
   "outputs": [],
   "source": [
    "df_chime['emb_search']=df_chime['short_desc'].apply(lambda x: model_search.encode(x))"
   ]
  },
  {
   "cell_type": "code",
   "execution_count": 216,
   "id": "eedf1ad3-420c-46e8-b9d6-f6ee8a5cf26a",
   "metadata": {
    "tags": []
   },
   "outputs": [],
   "source": [
    "# calculate cosine similarity\n",
    "text = 'ACH DISPUTE ' + 'Adjustment - Cr ' + 'Misc. Credit Adjustment on ' + 'ACH Claim# ' + 'Reversal'\n",
    "text_emb = model_search.encode(text)\n",
    "\n",
    "df_chime['similarity_search'] = df_chime['emb_search'].apply(lambda x: util.dot_score(x,text_emb))\n",
    "df_chime['similarity_search'] = df_chime['similarity_search'].astype('float32')\n",
    "\n",
    "# make prediction ; 1 = chargeback/unauth , 0 = good transaction\n",
    "threshold_search = 16.5\n",
    "df_chime['pred_search'] = df_chime['similarity_search'].apply(lambda x: 1 if x>= threshold_search else 0)"
   ]
  },
  {
   "cell_type": "code",
   "execution_count": 249,
   "id": "58f35c35-0ef1-4113-93a0-2f0a2b016966",
   "metadata": {
    "tags": []
   },
   "outputs": [
    {
     "name": "stdout",
     "output_type": "stream",
     "text": [
      "Sentence Transformer - multi-qa-mpnet-base-dot-v1 - Prediction:\n",
      "Recall : 0.00331\n",
      "Precision : 0.08\n",
      "Accuracy : 0.34\n"
     ]
    }
   ],
   "source": [
    "# evaluate\n",
    "tp = df_chime[(df_chime['unauth']==1) & (df_chime['pred_search']==1)].count()[0]\n",
    "fp = df_chime[(df_chime['unauth']==0) & (df_chime['pred_search']==1)].count()[0]\n",
    "tn = df_chime[(df_chime['unauth']==0) & (df_chime['pred_search']==0)].count()[0]\n",
    "fn = df_chime[(df_chime['unauth']==1) & (df_chime['pred_search']==0)].count()[0]\n",
    "\n",
    "print(f'Sentence Transformer - multi-qa-mpnet-base-dot-v1 - Prediction:')\n",
    "print(f'Recall : {round(tp/(tp+fn),5)}')\n",
    "print(f'Precision : {round(tp/(tp+fp),2)}')\n",
    "print(f'Accuracy : {round((tp+tn)/(tp+tn+fp+fn),2)}')"
   ]
  },
  {
   "cell_type": "markdown",
   "id": "6e9ee18c-d401-418c-91d5-d62af114b7d3",
   "metadata": {},
   "source": [
    "## Overall (include Chime)"
   ]
  },
  {
   "cell_type": "code",
   "execution_count": 166,
   "id": "27cb797e-d98c-4ce0-b4d0-19f0ce431208",
   "metadata": {
    "tags": []
   },
   "outputs": [],
   "source": [
    "df_test_all = pd.concat([df_test, df_chime])"
   ]
  },
  {
   "cell_type": "code",
   "execution_count": 167,
   "id": "3a575496-be2c-45c1-a072-706fdc802ecd",
   "metadata": {
    "tags": []
   },
   "outputs": [
    {
     "name": "stdout",
     "output_type": "stream",
     "text": [
      "BERT Model Prediction:\n",
      "Recall : 0.4\n",
      "Precision : 0.87\n",
      "Accuracy : 0.66\n"
     ]
    }
   ],
   "source": [
    "tp = df_test_all[(df_test_all['unauth']==1) & (df_test_all['pred_bert']==1)].count()[0]\n",
    "fp = df_test_all[(df_test_all['unauth']==0) & (df_test_all['pred_bert']==1)].count()[0]\n",
    "tn = df_test_all[(df_test_all['unauth']==0) & (df_test_all['pred_bert']==0)].count()[0]\n",
    "fn = df_test_all[(df_test_all['unauth']==1) & (df_test_all['pred_bert']==0)].count()[0]\n",
    "\n",
    "print(f'BERT Model Prediction:')\n",
    "print(f'Recall : {round(tp/(tp+fn),2)}')\n",
    "print(f'Precision : {round(tp/(tp+fp),2)}')\n",
    "print(f'Accuracy : {round((tp+tn)/(tp+tn+fp+fn),2)}')"
   ]
  },
  {
   "cell_type": "code",
   "execution_count": 226,
   "id": "0d6494f8-fb7c-4fda-807f-27d477f3edd8",
   "metadata": {
    "tags": []
   },
   "outputs": [
    {
     "name": "stdout",
     "output_type": "stream",
     "text": [
      "Sentence Transformer - all-MiniLM-L6-v2 - Prediction:\n",
      "Recall : 0.38\n",
      "Precision : 0.89\n",
      "Accuracy : 0.65\n"
     ]
    }
   ],
   "source": [
    "tp = df_test_all[(df_test_all['unauth']==1) & (df_test_all['pred_sen']==1)].count()[0]\n",
    "fp = df_test_all[(df_test_all['unauth']==0) & (df_test_all['pred_sen']==1)].count()[0]\n",
    "tn = df_test_all[(df_test_all['unauth']==0) & (df_test_all['pred_sen']==0)].count()[0]\n",
    "fn = df_test_all[(df_test_all['unauth']==1) & (df_test_all['pred_sen']==0)].count()[0]\n",
    "\n",
    "print(f'Sentence Transformer - all-MiniLM-L6-v2 - Prediction:')\n",
    "print(f'Recall : {round(tp/(tp+fn),2)}')\n",
    "print(f'Precision : {round(tp/(tp+fp),2)}')\n",
    "print(f'Accuracy : {round((tp+tn)/(tp+tn+fp+fn),2)}')"
   ]
  },
  {
   "cell_type": "code",
   "execution_count": 228,
   "id": "08250585-bec5-40c2-9345-98f22ae44669",
   "metadata": {
    "tags": []
   },
   "outputs": [
    {
     "name": "stdout",
     "output_type": "stream",
     "text": [
      "Sentence Transformer - multi-qa-mpnet-base-dot-v1 - Prediction:\n",
      "Recall : 0.35\n",
      "Precision : 0.87\n",
      "Accuracy : 0.63\n"
     ]
    }
   ],
   "source": [
    "tp = df_test_all[(df_test_all['unauth']==1) & (df_test_all['pred_search']==1)].count()[0]\n",
    "fp = df_test_all[(df_test_all['unauth']==0) & (df_test_all['pred_search']==1)].count()[0]\n",
    "tn = df_test_all[(df_test_all['unauth']==0) & (df_test_all['pred_search']==0)].count()[0]\n",
    "fn = df_test_all[(df_test_all['unauth']==1) & (df_test_all['pred_search']==0)].count()[0]\n",
    "\n",
    "print(f'Sentence Transformer - multi-qa-mpnet-base-dot-v1 - Prediction:')\n",
    "print(f'Recall : {round(tp/(tp+fn),2)}')\n",
    "print(f'Precision : {round(tp/(tp+fp),2)}')\n",
    "print(f'Accuracy : {round((tp+tn)/(tp+tn+fp+fn),2)}')"
   ]
  },
  {
   "cell_type": "markdown",
   "id": "6c012df7-abeb-4e30-a768-12fafff85b7c",
   "metadata": {},
   "source": [
    "## Regex"
   ]
  },
  {
   "cell_type": "code",
   "execution_count": 6,
   "id": "164c1dbe-4202-42b3-8e4c-55ba98cdba0e",
   "metadata": {
    "tags": []
   },
   "outputs": [],
   "source": [
    "import re"
   ]
  },
  {
   "cell_type": "code",
   "execution_count": 7,
   "id": "1c9888ff-4f7a-4900-aa50-c02996700e0b",
   "metadata": {
    "tags": []
   },
   "outputs": [],
   "source": [
    "def regex_match(bank, text):\n",
    "    if bank == 'Chase' and re.match(r'^(Reversal:) .+', text):\n",
    "        return True\n",
    "    elif bank == 'Bank of America' and re.match(r'(^(Misc. Credit Adjustment on) [0-9]{2}\\/[0-9]{2}\\/[0-9]{2} (Card|Acct) # [X0-9]+ Claim # X{5}[0-9]{7}|^(ACH (Temporary )?Credit Adjustment on) [0-9]{2}\\/[0-9]{2}\\/[0-9]{2} Acct # X{5}[0-9]{7} Claim # X{5}[0-9]{7}|^(Temporary Credit Adjustment on) [0-9]{2}\\/[0-9]{2}\\/[0-9]{2} Card # X{10}[0-9]{6} Claim # X{5}[0-9]{7})', text):\n",
    "        return True\n",
    "    elif bank == 'Wells Fargo' and re.match(r'(^(CARD (CLAIM )?FINAL CREDIT) [0-9]+|^(ACH Claim#).?[0-9]{13}|^(INSTACASH PAYMEN HIST RTN) .+)', text):\n",
    "        return True\n",
    "    elif bank == 'Chime Bank' and re.match(r'((Direct Debit: )?([0-9]+ )?Direct Debit Instacash Payme(n)?( Moneylion)?( .+)?|^(Unauth Debit Wsud)$)', text):\n",
    "        return True\n",
    "    elif bank == 'Navy Federal Credit Union' and re.match(r'(^(Adjustment - Cr)(edit)?|(Check )?Reversal)', text):\n",
    "        return True\n",
    "    elif bank == 'USAA' and re.match(r'^(ACH DISPUTE CR)$', text):\n",
    "        return True\n",
    "    elif bank == 'Capital One' and re.match('^(Withdrawal Reversal)$', text):\n",
    "        return True\n",
    "    elif bank == 'PNC' and re.match('^(ACH DISPUTE CREDIT)$', text):\n",
    "        return True\n",
    "    elif bank == 'Huntington Bank' and re.match('^(Dispute Final Credit)$', text):\n",
    "        return True\n",
    "    elif bank == 'US Bank' and re.match('^(98achi00)[0-9]{11} [0-9]{2}\\/[0-9]{2}\\/[0-9]{4} (Ach Adjustment)$', text):\n",
    "        return True\n",
    "    elif bank == 'Regions Bank' and re.match('^(Regions Bank Reg E Adjustment)$', text):\n",
    "        return True\n",
    "    else:\n",
    "        return False                          "
   ]
  },
  {
   "cell_type": "code",
   "execution_count": 8,
   "id": "79993b84-c509-4d2b-9c0d-08875c65d869",
   "metadata": {
    "tags": []
   },
   "outputs": [
    {
     "data": {
      "text/html": [
       "<div>\n",
       "<style scoped>\n",
       "    .dataframe tbody tr th:only-of-type {\n",
       "        vertical-align: middle;\n",
       "    }\n",
       "\n",
       "    .dataframe tbody tr th {\n",
       "        vertical-align: top;\n",
       "    }\n",
       "\n",
       "    .dataframe thead th {\n",
       "        text-align: right;\n",
       "    }\n",
       "</style>\n",
       "<table border=\"1\" class=\"dataframe\">\n",
       "  <thead>\n",
       "    <tr style=\"text-align: right;\">\n",
       "      <th></th>\n",
       "      <th>bv_transaction_id</th>\n",
       "      <th>amount</th>\n",
       "      <th>description</th>\n",
       "      <th>memo</th>\n",
       "      <th>categorization</th>\n",
       "      <th>transaction_date</th>\n",
       "      <th>bank_name</th>\n",
       "      <th>provider</th>\n",
       "      <th>bank_status</th>\n",
       "      <th>unauth</th>\n",
       "      <th>short_desc</th>\n",
       "      <th>regex_match</th>\n",
       "    </tr>\n",
       "  </thead>\n",
       "  <tbody>\n",
       "    <tr>\n",
       "      <th>0</th>\n",
       "      <td>287dac6f-a6d2-4af1-a7ca-b0eb38840c11</td>\n",
       "      <td>370.96</td>\n",
       "      <td>Direct Debit: 4250411835 Direct Debit Instacas...</td>\n",
       "      <td>Service Financial Loans and Mortgages</td>\n",
       "      <td>Service, Financial, Loans and Mortgages</td>\n",
       "      <td>2022-09-20 00:00:00.000</td>\n",
       "      <td>Chime Bank</td>\n",
       "      <td>PLAID</td>\n",
       "      <td>REMOVED</td>\n",
       "      <td>1</td>\n",
       "      <td>Direct Debit: 4250411835 Direct</td>\n",
       "      <td>True</td>\n",
       "    </tr>\n",
       "    <tr>\n",
       "      <th>1</th>\n",
       "      <td>73617b82-261d-46f0-932f-66dc7d37c932</td>\n",
       "      <td>64.99</td>\n",
       "      <td>Reversal: INSTACASH PAYMEN MONEYLION 6310dc5d</td>\n",
       "      <td>Service Financial Loans and Mortgages</td>\n",
       "      <td>Service, Financial, Loans and Mortgages</td>\n",
       "      <td>2022-09-19 00:00:00.000</td>\n",
       "      <td>Chase</td>\n",
       "      <td>PLAID</td>\n",
       "      <td>UNLINKED</td>\n",
       "      <td>1</td>\n",
       "      <td>Reversal: INSTACASH PAYMEN MONEYLION</td>\n",
       "      <td>True</td>\n",
       "    </tr>\n",
       "    <tr>\n",
       "      <th>2</th>\n",
       "      <td>10d6a05b-b9ab-4d58-89c3-1fb5b7a54e69</td>\n",
       "      <td>525.95</td>\n",
       "      <td>Dispute Final Credit</td>\n",
       "      <td>Transfer Credit</td>\n",
       "      <td>Transfer, Credit</td>\n",
       "      <td>2023-03-28 00:00:00.000</td>\n",
       "      <td>Huntington Bank</td>\n",
       "      <td>PLAID</td>\n",
       "      <td>COMPLETE</td>\n",
       "      <td>1</td>\n",
       "      <td>Dispute Final Credit</td>\n",
       "      <td>True</td>\n",
       "    </tr>\n",
       "    <tr>\n",
       "      <th>3</th>\n",
       "      <td>f74cbfe6-54e2-4051-837a-1ef1dc002c20</td>\n",
       "      <td>832.35</td>\n",
       "      <td>INSTACASH PAYMEN REVERSAL</td>\n",
       "      <td>Transfer Credit</td>\n",
       "      <td>Transfer, Credit</td>\n",
       "      <td>2022-09-07 00:00:00.000</td>\n",
       "      <td>TD Bank</td>\n",
       "      <td>PLAID</td>\n",
       "      <td>REMOVED</td>\n",
       "      <td>1</td>\n",
       "      <td>INSTACASH PAYMEN REVERSAL</td>\n",
       "      <td>False</td>\n",
       "    </tr>\n",
       "    <tr>\n",
       "      <th>4</th>\n",
       "      <td>70e0aeac-14c1-4e95-b08f-0b10a3743475</td>\n",
       "      <td>212.00</td>\n",
       "      <td>INSTACASH PAYMEN</td>\n",
       "      <td>Transfer Credit</td>\n",
       "      <td>Transfer, Credit</td>\n",
       "      <td>2022-10-06 00:00:00.000</td>\n",
       "      <td>Capital One</td>\n",
       "      <td>PLAID</td>\n",
       "      <td>REMOVED</td>\n",
       "      <td>1</td>\n",
       "      <td>INSTACASH PAYMEN</td>\n",
       "      <td>False</td>\n",
       "    </tr>\n",
       "  </tbody>\n",
       "</table>\n",
       "</div>"
      ],
      "text/plain": [
       "                      bv_transaction_id  amount  \\\n",
       "0  287dac6f-a6d2-4af1-a7ca-b0eb38840c11  370.96   \n",
       "1  73617b82-261d-46f0-932f-66dc7d37c932   64.99   \n",
       "2  10d6a05b-b9ab-4d58-89c3-1fb5b7a54e69  525.95   \n",
       "3  f74cbfe6-54e2-4051-837a-1ef1dc002c20  832.35   \n",
       "4  70e0aeac-14c1-4e95-b08f-0b10a3743475  212.00   \n",
       "\n",
       "                                         description  \\\n",
       "0  Direct Debit: 4250411835 Direct Debit Instacas...   \n",
       "1      Reversal: INSTACASH PAYMEN MONEYLION 6310dc5d   \n",
       "2                               Dispute Final Credit   \n",
       "3                          INSTACASH PAYMEN REVERSAL   \n",
       "4                                   INSTACASH PAYMEN   \n",
       "\n",
       "                                    memo  \\\n",
       "0  Service Financial Loans and Mortgages   \n",
       "1  Service Financial Loans and Mortgages   \n",
       "2                        Transfer Credit   \n",
       "3                        Transfer Credit   \n",
       "4                        Transfer Credit   \n",
       "\n",
       "                            categorization         transaction_date  \\\n",
       "0  Service, Financial, Loans and Mortgages  2022-09-20 00:00:00.000   \n",
       "1  Service, Financial, Loans and Mortgages  2022-09-19 00:00:00.000   \n",
       "2                         Transfer, Credit  2023-03-28 00:00:00.000   \n",
       "3                         Transfer, Credit  2022-09-07 00:00:00.000   \n",
       "4                         Transfer, Credit  2022-10-06 00:00:00.000   \n",
       "\n",
       "         bank_name provider bank_status  unauth  \\\n",
       "0       Chime Bank    PLAID     REMOVED       1   \n",
       "1            Chase    PLAID    UNLINKED       1   \n",
       "2  Huntington Bank    PLAID    COMPLETE       1   \n",
       "3          TD Bank    PLAID     REMOVED       1   \n",
       "4      Capital One    PLAID     REMOVED       1   \n",
       "\n",
       "                             short_desc  regex_match  \n",
       "0       Direct Debit: 4250411835 Direct         True  \n",
       "1  Reversal: INSTACASH PAYMEN MONEYLION         True  \n",
       "2                  Dispute Final Credit         True  \n",
       "3             INSTACASH PAYMEN REVERSAL        False  \n",
       "4                      INSTACASH PAYMEN        False  "
      ]
     },
     "execution_count": 8,
     "metadata": {},
     "output_type": "execute_result"
    }
   ],
   "source": [
    "df_regex = df\n",
    "df_regex['regex_match'] = df_regex.apply(lambda df: regex_match(df['bank_name'], df['description']), axis=1)\n",
    "df_regex.head(5)"
   ]
  },
  {
   "cell_type": "code",
   "execution_count": 9,
   "id": "58b2f6fe-4661-4b34-9c27-476a9cf559a4",
   "metadata": {},
   "outputs": [],
   "source": [
    "df_regex_train = df_regex[df_regex['bank_name']!='Chime Bank'][:5000]\n",
    "df_regex_test = df_regex[df_regex['bank_name']!='Chime Bank'][5000:]\n",
    "df_regex_chime = df_regex[df_regex['bank_name']=='Chime Bank']\n",
    "df_regex_test_all = pd.concat([df_regex_test,df_regex_chime])"
   ]
  },
  {
   "cell_type": "code",
   "execution_count": 12,
   "id": "9512a635-3bc5-4a2e-950b-90c56692ecb1",
   "metadata": {
    "tags": []
   },
   "outputs": [
    {
     "name": "stdout",
     "output_type": "stream",
     "text": [
      "Regex on Train Data:\n",
      "Recall : 0.79\n",
      "Precision : 0.9994152046783625\n",
      "Accuracy : 0.91 \n",
      "\n",
      "Regex on Test Data excl Chime Bank:\n",
      "Recall : 0.78\n",
      "Precision : 0.9990094105993066\n",
      "Accuracy : 0.91 \n",
      "\n",
      "Regex on Chime Bank:\n",
      "Recall : 0.98\n",
      "Precision : 1.0\n",
      "Accuracy : 0.98 \n",
      "\n",
      "Regex on Overall Test Data:\n",
      "Recall : 0.89\n",
      "Precision : 0.999597423510467\n",
      "Accuracy : 0.94 \n",
      "\n"
     ]
    }
   ],
   "source": [
    "# train data\n",
    "tp = df_regex_train[(df_regex_train['unauth']==1) & (df_regex_train['regex_match']==True)].count()[0]\n",
    "fp = df_regex_train[(df_regex_train['unauth']==0) & (df_regex_train['regex_match']==True)].count()[0]\n",
    "tn = df_regex_train[(df_regex_train['unauth']==0) & (df_regex_train['regex_match']==False)].count()[0]\n",
    "fn = df_regex_train[(df_regex_train['unauth']==1) & (df_regex_train['regex_match']==False)].count()[0]\n",
    "\n",
    "print(f'Regex on Train Data:')\n",
    "print(f'Recall : {round(tp/(tp+fn),2)}')\n",
    "print(f'Precision : {tp/(tp+fp)}')\n",
    "print(f'Accuracy : {round((tp+tn)/(tp+tn+fp+fn),2)} \\n')\n",
    "\n",
    "# test data exclude Chime Bank\n",
    "tp = df_regex_test[(df_regex_test['unauth']==1) & (df_regex_test['regex_match']==True)].count()[0]\n",
    "fp = df_regex_test[(df_regex_test['unauth']==0) & (df_regex_test['regex_match']==True)].count()[0]\n",
    "tn = df_regex_test[(df_regex_test['unauth']==0) & (df_regex_test['regex_match']==False)].count()[0]\n",
    "fn = df_regex_test[(df_regex_test['unauth']==1) & (df_regex_test['regex_match']==False)].count()[0]\n",
    "\n",
    "print(f'Regex on Test Data excl Chime Bank:')\n",
    "print(f'Recall : {round(tp/(tp+fn),2)}')\n",
    "print(f'Precision : {tp/(tp+fp)}')\n",
    "print(f'Accuracy : {round((tp+tn)/(tp+tn+fp+fn),2)} \\n')\n",
    "\n",
    "# chime bank\n",
    "tp = df_regex_chime[(df_regex_chime['unauth']==1) & (df_regex_chime['regex_match']==True)].count()[0]\n",
    "fp = df_regex_chime[(df_regex_chime['unauth']==0) & (df_regex_chime['regex_match']==True)].count()[0]\n",
    "tn = df_regex_chime[(df_regex_chime['unauth']==0) & (df_regex_chime['regex_match']==False)].count()[0]\n",
    "fn = df_regex_chime[(df_regex_chime['unauth']==1) & (df_regex_chime['regex_match']==False)].count()[0]\n",
    "\n",
    "print(f'Regex on Chime Bank:')\n",
    "print(f'Recall : {round(tp/(tp+fn),2)}')\n",
    "print(f'Precision : {tp/(tp+fp)}')\n",
    "print(f'Accuracy : {round((tp+tn)/(tp+tn+fp+fn),2)} \\n')\n",
    "\n",
    "# overall test data \n",
    "tp = df_regex_test_all[(df_regex_test_all['unauth']==1) & (df_regex_test_all['regex_match']==True)].count()[0]\n",
    "fp = df_regex_test_all[(df_regex_test_all['unauth']==0) & (df_regex_test_all['regex_match']==True)].count()[0]\n",
    "tn = df_regex_test_all[(df_regex_test_all['unauth']==0) & (df_regex_test_all['regex_match']==False)].count()[0]\n",
    "fn = df_regex_test_all[(df_regex_test_all['unauth']==1) & (df_regex_test_all['regex_match']==False)].count()[0]\n",
    "\n",
    "print(f'Regex on Overall Test Data:')\n",
    "print(f'Recall : {round(tp/(tp+fn),2)}')\n",
    "print(f'Precision : {tp/(tp+fp)}')\n",
    "print(f'Accuracy : {round((tp+tn)/(tp+tn+fp+fn),2)} \\n')"
   ]
  },
  {
   "cell_type": "code",
   "execution_count": 11,
   "id": "bcda3c93",
   "metadata": {},
   "outputs": [
    {
     "name": "stdout",
     "output_type": "stream",
     "text": [
      "Regex on Train Data:\n",
      "Recall : 0.79\n",
      "Precision : 0.9994152046783625\n",
      "Accuracy : 0.91 \n",
      "\n"
     ]
    }
   ],
   "source": [
    "# train data\n",
    "tp = df_regex_train[(df_regex_train['unauth']==1) & (df_regex_train['regex_match']==True)].count()[0]\n",
    "fp = df_regex_train[(df_regex_train['unauth']==0) & (df_regex_train['regex_match']==True)].count()[0]\n",
    "tn = df_regex_train[(df_regex_train['unauth']==0) & (df_regex_train['regex_match']==False)].count()[0]\n",
    "fn = df_regex_train[(df_regex_train['unauth']==1) & (df_regex_train['regex_match']==False)].count()[0]\n",
    "\n",
    "print(f'Regex on Train Data:')\n",
    "print(f'Recall : {round(tp/(tp+fn),2)}')\n",
    "print(f'Precision : {tp/(tp+fp)}')\n",
    "print(f'Accuracy : {round((tp+tn)/(tp+tn+fp+fn),2)} \\n')"
   ]
  },
  {
   "cell_type": "markdown",
   "id": "3e22e9a0-c395-45e4-b8a3-345f573cea21",
   "metadata": {},
   "source": [
    "## All labels as Unauth"
   ]
  },
  {
   "cell_type": "code",
   "execution_count": 322,
   "id": "ef534a55-137e-4168-ba9c-5cb7ad361f22",
   "metadata": {
    "tags": []
   },
   "outputs": [
    {
     "data": {
      "text/html": [
       "<div>\n",
       "<style scoped>\n",
       "    .dataframe tbody tr th:only-of-type {\n",
       "        vertical-align: middle;\n",
       "    }\n",
       "\n",
       "    .dataframe tbody tr th {\n",
       "        vertical-align: top;\n",
       "    }\n",
       "\n",
       "    .dataframe thead th {\n",
       "        text-align: right;\n",
       "    }\n",
       "</style>\n",
       "<table border=\"1\" class=\"dataframe\">\n",
       "  <thead>\n",
       "    <tr style=\"text-align: right;\">\n",
       "      <th></th>\n",
       "      <th>bv_transaction_id</th>\n",
       "      <th>amount</th>\n",
       "      <th>description</th>\n",
       "      <th>memo</th>\n",
       "      <th>categorization</th>\n",
       "      <th>transaction_date</th>\n",
       "      <th>bank_name</th>\n",
       "      <th>provider</th>\n",
       "      <th>bank_status</th>\n",
       "      <th>unauth</th>\n",
       "      <th>short_desc</th>\n",
       "      <th>regex_match</th>\n",
       "      <th>label_unauth</th>\n",
       "    </tr>\n",
       "  </thead>\n",
       "  <tbody>\n",
       "    <tr>\n",
       "      <th>0</th>\n",
       "      <td>287dac6f-a6d2-4af1-a7ca-b0eb38840c11</td>\n",
       "      <td>370.96</td>\n",
       "      <td>Direct Debit: 4250411835 Direct Debit Instacas...</td>\n",
       "      <td>Service Financial Loans and Mortgages</td>\n",
       "      <td>Service, Financial, Loans and Mortgages</td>\n",
       "      <td>2022-09-20 00:00:00.000</td>\n",
       "      <td>Chime Bank</td>\n",
       "      <td>PLAID</td>\n",
       "      <td>REMOVED</td>\n",
       "      <td>1</td>\n",
       "      <td>Direct Debit: 4250411835 Direct</td>\n",
       "      <td>True</td>\n",
       "      <td>1</td>\n",
       "    </tr>\n",
       "    <tr>\n",
       "      <th>1</th>\n",
       "      <td>73617b82-261d-46f0-932f-66dc7d37c932</td>\n",
       "      <td>64.99</td>\n",
       "      <td>Reversal: INSTACASH PAYMEN MONEYLION 6310dc5d</td>\n",
       "      <td>Service Financial Loans and Mortgages</td>\n",
       "      <td>Service, Financial, Loans and Mortgages</td>\n",
       "      <td>2022-09-19 00:00:00.000</td>\n",
       "      <td>Chase</td>\n",
       "      <td>PLAID</td>\n",
       "      <td>UNLINKED</td>\n",
       "      <td>1</td>\n",
       "      <td>Reversal: INSTACASH PAYMEN MONEYLION</td>\n",
       "      <td>True</td>\n",
       "      <td>1</td>\n",
       "    </tr>\n",
       "    <tr>\n",
       "      <th>2</th>\n",
       "      <td>10d6a05b-b9ab-4d58-89c3-1fb5b7a54e69</td>\n",
       "      <td>525.95</td>\n",
       "      <td>Dispute Final Credit</td>\n",
       "      <td>Transfer Credit</td>\n",
       "      <td>Transfer, Credit</td>\n",
       "      <td>2023-03-28 00:00:00.000</td>\n",
       "      <td>Huntington Bank</td>\n",
       "      <td>PLAID</td>\n",
       "      <td>COMPLETE</td>\n",
       "      <td>1</td>\n",
       "      <td>Dispute Final Credit</td>\n",
       "      <td>True</td>\n",
       "      <td>1</td>\n",
       "    </tr>\n",
       "    <tr>\n",
       "      <th>3</th>\n",
       "      <td>f74cbfe6-54e2-4051-837a-1ef1dc002c20</td>\n",
       "      <td>832.35</td>\n",
       "      <td>INSTACASH PAYMEN REVERSAL</td>\n",
       "      <td>Transfer Credit</td>\n",
       "      <td>Transfer, Credit</td>\n",
       "      <td>2022-09-07 00:00:00.000</td>\n",
       "      <td>TD Bank</td>\n",
       "      <td>PLAID</td>\n",
       "      <td>REMOVED</td>\n",
       "      <td>1</td>\n",
       "      <td>INSTACASH PAYMEN REVERSAL</td>\n",
       "      <td>False</td>\n",
       "      <td>1</td>\n",
       "    </tr>\n",
       "    <tr>\n",
       "      <th>4</th>\n",
       "      <td>70e0aeac-14c1-4e95-b08f-0b10a3743475</td>\n",
       "      <td>212.00</td>\n",
       "      <td>INSTACASH PAYMEN</td>\n",
       "      <td>Transfer Credit</td>\n",
       "      <td>Transfer, Credit</td>\n",
       "      <td>2022-10-06 00:00:00.000</td>\n",
       "      <td>Capital One</td>\n",
       "      <td>PLAID</td>\n",
       "      <td>REMOVED</td>\n",
       "      <td>1</td>\n",
       "      <td>INSTACASH PAYMEN</td>\n",
       "      <td>False</td>\n",
       "      <td>1</td>\n",
       "    </tr>\n",
       "  </tbody>\n",
       "</table>\n",
       "</div>"
      ],
      "text/plain": [
       "                      bv_transaction_id  amount  \\\n",
       "0  287dac6f-a6d2-4af1-a7ca-b0eb38840c11  370.96   \n",
       "1  73617b82-261d-46f0-932f-66dc7d37c932   64.99   \n",
       "2  10d6a05b-b9ab-4d58-89c3-1fb5b7a54e69  525.95   \n",
       "3  f74cbfe6-54e2-4051-837a-1ef1dc002c20  832.35   \n",
       "4  70e0aeac-14c1-4e95-b08f-0b10a3743475  212.00   \n",
       "\n",
       "                                         description  \\\n",
       "0  Direct Debit: 4250411835 Direct Debit Instacas...   \n",
       "1      Reversal: INSTACASH PAYMEN MONEYLION 6310dc5d   \n",
       "2                               Dispute Final Credit   \n",
       "3                          INSTACASH PAYMEN REVERSAL   \n",
       "4                                   INSTACASH PAYMEN   \n",
       "\n",
       "                                    memo  \\\n",
       "0  Service Financial Loans and Mortgages   \n",
       "1  Service Financial Loans and Mortgages   \n",
       "2                        Transfer Credit   \n",
       "3                        Transfer Credit   \n",
       "4                        Transfer Credit   \n",
       "\n",
       "                            categorization         transaction_date  \\\n",
       "0  Service, Financial, Loans and Mortgages  2022-09-20 00:00:00.000   \n",
       "1  Service, Financial, Loans and Mortgages  2022-09-19 00:00:00.000   \n",
       "2                         Transfer, Credit  2023-03-28 00:00:00.000   \n",
       "3                         Transfer, Credit  2022-09-07 00:00:00.000   \n",
       "4                         Transfer, Credit  2022-10-06 00:00:00.000   \n",
       "\n",
       "         bank_name provider bank_status  unauth  \\\n",
       "0       Chime Bank    PLAID     REMOVED       1   \n",
       "1            Chase    PLAID    UNLINKED       1   \n",
       "2  Huntington Bank    PLAID    COMPLETE       1   \n",
       "3          TD Bank    PLAID     REMOVED       1   \n",
       "4      Capital One    PLAID     REMOVED       1   \n",
       "\n",
       "                             short_desc  regex_match  label_unauth  \n",
       "0       Direct Debit: 4250411835 Direct         True             1  \n",
       "1  Reversal: INSTACASH PAYMEN MONEYLION         True             1  \n",
       "2                  Dispute Final Credit         True             1  \n",
       "3             INSTACASH PAYMEN REVERSAL        False             1  \n",
       "4                      INSTACASH PAYMEN        False             1  "
      ]
     },
     "execution_count": 322,
     "metadata": {},
     "output_type": "execute_result"
    }
   ],
   "source": [
    "df_all_unauth = df\n",
    "df_all_unauth['label_unauth'] = 1\n",
    "df_all_unauth.head(5)"
   ]
  },
  {
   "cell_type": "code",
   "execution_count": 331,
   "id": "61514b5e-ca79-4e99-88a6-96c4336b89f2",
   "metadata": {
    "tags": []
   },
   "outputs": [],
   "source": [
    "df_all_unauth_train = df_all_unauth[df_all_unauth['bank_name']!='Chime Bank'][:5000]\n",
    "df_all_unauth_test = df_all_unauth[df_all_unauth['bank_name']!='Chime Bank'][5000:]\n",
    "df_all_unauth_chime = df_all_unauth[df_all_unauth['bank_name']=='Chime Bank']\n",
    "df_all_unauth_test_all = pd.concat([df_all_unauth_test,df_all_unauth_chime])"
   ]
  },
  {
   "cell_type": "code",
   "execution_count": 332,
   "id": "10419c09-224d-4cac-9790-ba0804f03548",
   "metadata": {
    "tags": []
   },
   "outputs": [
    {
     "name": "stdout",
     "output_type": "stream",
     "text": [
      "All Unauth on Train Data:\n",
      "Recall : 1.0\n",
      "Precision : 0.43\n",
      "Accuracy : 0.43 \n",
      "\n",
      "All Unauth on Test Data excl Chime Bank:\n",
      "Recall : 1.0\n",
      "Precision : 0.43\n",
      "Accuracy : 0.43 \n",
      "\n",
      "All Unauth on Chime Bank:\n",
      "Recall : 1.0\n",
      "Precision : 0.64\n",
      "Accuracy : 0.64 \n",
      "\n",
      "All Unauth on Overall Test Data:\n",
      "Recall : 1.0\n",
      "Precision : 0.52\n",
      "Accuracy : 0.52 \n",
      "\n"
     ]
    }
   ],
   "source": [
    "# train data\n",
    "tp = df_all_unauth_train[(df_all_unauth_train['unauth']==1) & (df_all_unauth_train['label_unauth']==1)].count()[0]\n",
    "fp = df_all_unauth_train[(df_all_unauth_train['unauth']==0) & (df_all_unauth_train['label_unauth']==1)].count()[0]\n",
    "tn = df_all_unauth_train[(df_all_unauth_train['unauth']==0) & (df_all_unauth_train['label_unauth']==0)].count()[0]\n",
    "fn = df_all_unauth_train[(df_all_unauth_train['unauth']==1) & (df_all_unauth_train['label_unauth']==0)].count()[0]\n",
    "\n",
    "print(f'All Unauth on Train Data:')\n",
    "print(f'Recall : {round(tp/(tp+fn),2)}')\n",
    "print(f'Precision : {round(tp/(tp+fp),2)}')\n",
    "print(f'Accuracy : {round((tp+tn)/(tp+tn+fp+fn),2)} \\n')\n",
    "\n",
    "# test data exclude Chime Bank\n",
    "tp = df_all_unauth_test[(df_all_unauth_test['unauth']==1) & (df_all_unauth_test['label_unauth']==1)].count()[0]\n",
    "fp = df_all_unauth_test[(df_all_unauth_test['unauth']==0) & (df_all_unauth_test['label_unauth']==1)].count()[0]\n",
    "tn = df_all_unauth_test[(df_all_unauth_test['unauth']==0) & (df_all_unauth_test['label_unauth']==0)].count()[0]\n",
    "fn = df_all_unauth_test[(df_all_unauth_test['unauth']==1) & (df_all_unauth_test['label_unauth']==0)].count()[0]\n",
    "\n",
    "print(f'All Unauth on Test Data excl Chime Bank:')\n",
    "print(f'Recall : {round(tp/(tp+fn),2)}')\n",
    "print(f'Precision : {round(tp/(tp+fp),2)}')\n",
    "print(f'Accuracy : {round((tp+tn)/(tp+tn+fp+fn),2)} \\n')\n",
    "\n",
    "# chime bank\n",
    "tp = df_all_unauth_chime[(df_all_unauth_chime['unauth']==1) & (df_all_unauth_chime['label_unauth']==1)].count()[0]\n",
    "fp = df_all_unauth_chime[(df_all_unauth_chime['unauth']==0) & (df_all_unauth_chime['label_unauth']==1)].count()[0]\n",
    "tn = df_all_unauth_chime[(df_all_unauth_chime['unauth']==0) & (df_all_unauth_chime['label_unauth']==0)].count()[0]\n",
    "fn = df_all_unauth_chime[(df_all_unauth_chime['unauth']==1) & (df_all_unauth_chime['label_unauth']==0)].count()[0]\n",
    "\n",
    "print(f'All Unauth on Chime Bank:')\n",
    "print(f'Recall : {round(tp/(tp+fn),2)}')\n",
    "print(f'Precision : {round(tp/(tp+fp),2)}')\n",
    "print(f'Accuracy : {round((tp+tn)/(tp+tn+fp+fn),2)} \\n')\n",
    "\n",
    "# overall test data \n",
    "tp = df_all_unauth_test_all[(df_all_unauth_test_all['unauth']==1) & (df_all_unauth_test_all['label_unauth']==1)].count()[0]\n",
    "fp = df_all_unauth_test_all[(df_all_unauth_test_all['unauth']==0) & (df_all_unauth_test_all['label_unauth']==1)].count()[0]\n",
    "tn = df_all_unauth_test_all[(df_all_unauth_test_all['unauth']==0) & (df_all_unauth_test_all['label_unauth']==0)].count()[0]\n",
    "fn = df_all_unauth_test_all[(df_all_unauth_test_all['unauth']==1) & (df_all_unauth_test_all['label_unauth']==0)].count()[0]\n",
    "\n",
    "print(f'All Unauth on Overall Test Data:')\n",
    "print(f'Recall : {round(tp/(tp+fn),2)}')\n",
    "print(f'Precision : {round(tp/(tp+fp),2)}')\n",
    "print(f'Accuracy : {round((tp+tn)/(tp+tn+fp+fn),2)} \\n')"
   ]
  },
  {
   "cell_type": "code",
   "execution_count": 343,
   "id": "c44ec6c6-2549-4692-bd05-ccd559c6b7b8",
   "metadata": {
    "tags": []
   },
   "outputs": [
    {
     "data": {
      "text/plain": [
       "Chime Bank                          4718\n",
       "Chase                               1919\n",
       "Bank of America                     1774\n",
       "Wells Fargo                         1684\n",
       "Navy Federal Credit Union            805\n",
       "                                    ... \n",
       "American National Bank (VA & NC)       1\n",
       "WESTconsin Credit Union                1\n",
       "Listerhill Credit Union                1\n",
       "Peoples Community Bank (MO)            1\n",
       "Triumph Community Bank                 1\n",
       "Name: bank_name, Length: 569, dtype: int64"
      ]
     },
     "execution_count": 343,
     "metadata": {},
     "output_type": "execute_result"
    }
   ],
   "source": [
    "df.bank_name.value_counts()"
   ]
  },
  {
   "cell_type": "code",
   "execution_count": 340,
   "id": "b8028cb1-3469-4f7a-a59b-6521afa284a3",
   "metadata": {
    "tags": []
   },
   "outputs": [
    {
     "data": {
      "text/html": [
       "<div>\n",
       "<style scoped>\n",
       "    .dataframe tbody tr th:only-of-type {\n",
       "        vertical-align: middle;\n",
       "    }\n",
       "\n",
       "    .dataframe tbody tr th {\n",
       "        vertical-align: top;\n",
       "    }\n",
       "\n",
       "    .dataframe thead th {\n",
       "        text-align: right;\n",
       "    }\n",
       "</style>\n",
       "<table border=\"1\" class=\"dataframe\">\n",
       "  <thead>\n",
       "    <tr style=\"text-align: right;\">\n",
       "      <th></th>\n",
       "      <th>bv_transaction_id</th>\n",
       "      <th>amount</th>\n",
       "      <th>description</th>\n",
       "      <th>memo</th>\n",
       "      <th>categorization</th>\n",
       "      <th>transaction_date</th>\n",
       "      <th>bank_name</th>\n",
       "      <th>provider</th>\n",
       "      <th>bank_status</th>\n",
       "      <th>unauth</th>\n",
       "      <th>short_desc</th>\n",
       "      <th>regex_match</th>\n",
       "      <th>label_unauth</th>\n",
       "    </tr>\n",
       "  </thead>\n",
       "  <tbody>\n",
       "    <tr>\n",
       "      <th>0</th>\n",
       "      <td>287dac6f-a6d2-4af1-a7ca-b0eb38840c11</td>\n",
       "      <td>370.96</td>\n",
       "      <td>Direct Debit: 4250411835 Direct Debit Instacas...</td>\n",
       "      <td>Service Financial Loans and Mortgages</td>\n",
       "      <td>Service, Financial, Loans and Mortgages</td>\n",
       "      <td>2022-09-20 00:00:00.000</td>\n",
       "      <td>Chime Bank</td>\n",
       "      <td>PLAID</td>\n",
       "      <td>REMOVED</td>\n",
       "      <td>1</td>\n",
       "      <td>Direct Debit: 4250411835 Direct</td>\n",
       "      <td>True</td>\n",
       "      <td>1</td>\n",
       "    </tr>\n",
       "    <tr>\n",
       "      <th>1</th>\n",
       "      <td>73617b82-261d-46f0-932f-66dc7d37c932</td>\n",
       "      <td>64.99</td>\n",
       "      <td>Reversal: INSTACASH PAYMEN MONEYLION 6310dc5d</td>\n",
       "      <td>Service Financial Loans and Mortgages</td>\n",
       "      <td>Service, Financial, Loans and Mortgages</td>\n",
       "      <td>2022-09-19 00:00:00.000</td>\n",
       "      <td>Chase</td>\n",
       "      <td>PLAID</td>\n",
       "      <td>UNLINKED</td>\n",
       "      <td>1</td>\n",
       "      <td>Reversal: INSTACASH PAYMEN MONEYLION</td>\n",
       "      <td>True</td>\n",
       "      <td>1</td>\n",
       "    </tr>\n",
       "    <tr>\n",
       "      <th>2</th>\n",
       "      <td>10d6a05b-b9ab-4d58-89c3-1fb5b7a54e69</td>\n",
       "      <td>525.95</td>\n",
       "      <td>Dispute Final Credit</td>\n",
       "      <td>Transfer Credit</td>\n",
       "      <td>Transfer, Credit</td>\n",
       "      <td>2023-03-28 00:00:00.000</td>\n",
       "      <td>Huntington Bank</td>\n",
       "      <td>PLAID</td>\n",
       "      <td>COMPLETE</td>\n",
       "      <td>1</td>\n",
       "      <td>Dispute Final Credit</td>\n",
       "      <td>True</td>\n",
       "      <td>1</td>\n",
       "    </tr>\n",
       "    <tr>\n",
       "      <th>3</th>\n",
       "      <td>f74cbfe6-54e2-4051-837a-1ef1dc002c20</td>\n",
       "      <td>832.35</td>\n",
       "      <td>INSTACASH PAYMEN REVERSAL</td>\n",
       "      <td>Transfer Credit</td>\n",
       "      <td>Transfer, Credit</td>\n",
       "      <td>2022-09-07 00:00:00.000</td>\n",
       "      <td>TD Bank</td>\n",
       "      <td>PLAID</td>\n",
       "      <td>REMOVED</td>\n",
       "      <td>1</td>\n",
       "      <td>INSTACASH PAYMEN REVERSAL</td>\n",
       "      <td>False</td>\n",
       "      <td>1</td>\n",
       "    </tr>\n",
       "    <tr>\n",
       "      <th>4</th>\n",
       "      <td>70e0aeac-14c1-4e95-b08f-0b10a3743475</td>\n",
       "      <td>212.00</td>\n",
       "      <td>INSTACASH PAYMEN</td>\n",
       "      <td>Transfer Credit</td>\n",
       "      <td>Transfer, Credit</td>\n",
       "      <td>2022-10-06 00:00:00.000</td>\n",
       "      <td>Capital One</td>\n",
       "      <td>PLAID</td>\n",
       "      <td>REMOVED</td>\n",
       "      <td>1</td>\n",
       "      <td>INSTACASH PAYMEN</td>\n",
       "      <td>False</td>\n",
       "      <td>1</td>\n",
       "    </tr>\n",
       "    <tr>\n",
       "      <th>...</th>\n",
       "      <td>...</td>\n",
       "      <td>...</td>\n",
       "      <td>...</td>\n",
       "      <td>...</td>\n",
       "      <td>...</td>\n",
       "      <td>...</td>\n",
       "      <td>...</td>\n",
       "      <td>...</td>\n",
       "      <td>...</td>\n",
       "      <td>...</td>\n",
       "      <td>...</td>\n",
       "      <td>...</td>\n",
       "      <td>...</td>\n",
       "    </tr>\n",
       "    <tr>\n",
       "      <th>15741</th>\n",
       "      <td>593c705e-450d-4f25-8900-9629655c3108</td>\n",
       "      <td>-15.13</td>\n",
       "      <td>Speedway</td>\n",
       "      <td>Travel Gas Stations</td>\n",
       "      <td>Travel, Gas Stations</td>\n",
       "      <td>2022-09-09 00:00:00.000</td>\n",
       "      <td>Capital One</td>\n",
       "      <td>PLAID</td>\n",
       "      <td>COMPLETE</td>\n",
       "      <td>0</td>\n",
       "      <td>Speedway</td>\n",
       "      <td>False</td>\n",
       "      <td>1</td>\n",
       "    </tr>\n",
       "    <tr>\n",
       "      <th>15742</th>\n",
       "      <td>6ea993d6-fd05-4ab7-9bff-a2f3b9d0f3bd</td>\n",
       "      <td>-105.00</td>\n",
       "      <td>Pos Debit- 2607 2607 Cash App*nikita D 8774174...</td>\n",
       "      <td>Transfer Debit</td>\n",
       "      <td>Transfer, Debit</td>\n",
       "      <td>2022-11-14 00:00:00.000</td>\n",
       "      <td>Navy Federal Credit Union</td>\n",
       "      <td>PLAID</td>\n",
       "      <td>REMOVED</td>\n",
       "      <td>0</td>\n",
       "      <td>Pos Debit- 2607 2607 Cash App*nikita</td>\n",
       "      <td>False</td>\n",
       "      <td>1</td>\n",
       "    </tr>\n",
       "    <tr>\n",
       "      <th>15743</th>\n",
       "      <td>768d1ca8-118a-4cd8-9868-9ddec2f7becc</td>\n",
       "      <td>-9.99</td>\n",
       "      <td>HBO Max</td>\n",
       "      <td>Service</td>\n",
       "      <td>Service</td>\n",
       "      <td>2022-08-01 00:00:00.000</td>\n",
       "      <td>Regions Bank</td>\n",
       "      <td>PLAID</td>\n",
       "      <td>REMOVED</td>\n",
       "      <td>0</td>\n",
       "      <td>HBO Max</td>\n",
       "      <td>False</td>\n",
       "      <td>1</td>\n",
       "    </tr>\n",
       "    <tr>\n",
       "      <th>15744</th>\n",
       "      <td>de785e36-dc44-4938-b396-a78d6f68dfb1</td>\n",
       "      <td>-39.01</td>\n",
       "      <td>MURPHY6759ATWAL STATESBORO GA</td>\n",
       "      <td>Travel Gas Stations</td>\n",
       "      <td>Travel, Gas Stations</td>\n",
       "      <td>2023-03-31 00:00:00.000</td>\n",
       "      <td>USAA</td>\n",
       "      <td>PLAID</td>\n",
       "      <td>COMPLETE</td>\n",
       "      <td>0</td>\n",
       "      <td>MURPHY6759ATWAL STATESBORO GA</td>\n",
       "      <td>False</td>\n",
       "      <td>1</td>\n",
       "    </tr>\n",
       "    <tr>\n",
       "      <th>15745</th>\n",
       "      <td>8e3cd6a7-d7ba-4721-a51e-2235d5168602</td>\n",
       "      <td>-10.81</td>\n",
       "      <td>PURCHASE AUTHORIZED ON 12/15 APPLE.COM/BILL 86...</td>\n",
       "      <td>Shops Digital Purchase</td>\n",
       "      <td>Shops, Digital Purchase</td>\n",
       "      <td>2022-12-19 00:00:00.000</td>\n",
       "      <td>Wells Fargo</td>\n",
       "      <td>PLAID</td>\n",
       "      <td>REMOVED</td>\n",
       "      <td>0</td>\n",
       "      <td>PURCHASE AUTHORIZED ON 12/15 APPLE.COM/BILL</td>\n",
       "      <td>False</td>\n",
       "      <td>1</td>\n",
       "    </tr>\n",
       "  </tbody>\n",
       "</table>\n",
       "<p>15746 rows × 13 columns</p>\n",
       "</div>"
      ],
      "text/plain": [
       "                          bv_transaction_id  amount  \\\n",
       "0      287dac6f-a6d2-4af1-a7ca-b0eb38840c11  370.96   \n",
       "1      73617b82-261d-46f0-932f-66dc7d37c932   64.99   \n",
       "2      10d6a05b-b9ab-4d58-89c3-1fb5b7a54e69  525.95   \n",
       "3      f74cbfe6-54e2-4051-837a-1ef1dc002c20  832.35   \n",
       "4      70e0aeac-14c1-4e95-b08f-0b10a3743475  212.00   \n",
       "...                                     ...     ...   \n",
       "15741  593c705e-450d-4f25-8900-9629655c3108  -15.13   \n",
       "15742  6ea993d6-fd05-4ab7-9bff-a2f3b9d0f3bd -105.00   \n",
       "15743  768d1ca8-118a-4cd8-9868-9ddec2f7becc   -9.99   \n",
       "15744  de785e36-dc44-4938-b396-a78d6f68dfb1  -39.01   \n",
       "15745  8e3cd6a7-d7ba-4721-a51e-2235d5168602  -10.81   \n",
       "\n",
       "                                             description  \\\n",
       "0      Direct Debit: 4250411835 Direct Debit Instacas...   \n",
       "1          Reversal: INSTACASH PAYMEN MONEYLION 6310dc5d   \n",
       "2                                   Dispute Final Credit   \n",
       "3                              INSTACASH PAYMEN REVERSAL   \n",
       "4                                       INSTACASH PAYMEN   \n",
       "...                                                  ...   \n",
       "15741                                           Speedway   \n",
       "15742  Pos Debit- 2607 2607 Cash App*nikita D 8774174...   \n",
       "15743                                            HBO Max   \n",
       "15744                      MURPHY6759ATWAL STATESBORO GA   \n",
       "15745  PURCHASE AUTHORIZED ON 12/15 APPLE.COM/BILL 86...   \n",
       "\n",
       "                                        memo  \\\n",
       "0      Service Financial Loans and Mortgages   \n",
       "1      Service Financial Loans and Mortgages   \n",
       "2                            Transfer Credit   \n",
       "3                            Transfer Credit   \n",
       "4                            Transfer Credit   \n",
       "...                                      ...   \n",
       "15741                    Travel Gas Stations   \n",
       "15742                         Transfer Debit   \n",
       "15743                                Service   \n",
       "15744                    Travel Gas Stations   \n",
       "15745                 Shops Digital Purchase   \n",
       "\n",
       "                                categorization         transaction_date  \\\n",
       "0      Service, Financial, Loans and Mortgages  2022-09-20 00:00:00.000   \n",
       "1      Service, Financial, Loans and Mortgages  2022-09-19 00:00:00.000   \n",
       "2                             Transfer, Credit  2023-03-28 00:00:00.000   \n",
       "3                             Transfer, Credit  2022-09-07 00:00:00.000   \n",
       "4                             Transfer, Credit  2022-10-06 00:00:00.000   \n",
       "...                                        ...                      ...   \n",
       "15741                     Travel, Gas Stations  2022-09-09 00:00:00.000   \n",
       "15742                          Transfer, Debit  2022-11-14 00:00:00.000   \n",
       "15743                                  Service  2022-08-01 00:00:00.000   \n",
       "15744                     Travel, Gas Stations  2023-03-31 00:00:00.000   \n",
       "15745                  Shops, Digital Purchase  2022-12-19 00:00:00.000   \n",
       "\n",
       "                       bank_name provider bank_status  unauth  \\\n",
       "0                     Chime Bank    PLAID     REMOVED       1   \n",
       "1                          Chase    PLAID    UNLINKED       1   \n",
       "2                Huntington Bank    PLAID    COMPLETE       1   \n",
       "3                        TD Bank    PLAID     REMOVED       1   \n",
       "4                    Capital One    PLAID     REMOVED       1   \n",
       "...                          ...      ...         ...     ...   \n",
       "15741                Capital One    PLAID    COMPLETE       0   \n",
       "15742  Navy Federal Credit Union    PLAID     REMOVED       0   \n",
       "15743               Regions Bank    PLAID     REMOVED       0   \n",
       "15744                       USAA    PLAID    COMPLETE       0   \n",
       "15745                Wells Fargo    PLAID     REMOVED       0   \n",
       "\n",
       "                                        short_desc  regex_match  label_unauth  \n",
       "0                  Direct Debit: 4250411835 Direct         True             1  \n",
       "1             Reversal: INSTACASH PAYMEN MONEYLION         True             1  \n",
       "2                             Dispute Final Credit         True             1  \n",
       "3                        INSTACASH PAYMEN REVERSAL        False             1  \n",
       "4                                 INSTACASH PAYMEN        False             1  \n",
       "...                                            ...          ...           ...  \n",
       "15741                                     Speedway        False             1  \n",
       "15742         Pos Debit- 2607 2607 Cash App*nikita        False             1  \n",
       "15743                                      HBO Max        False             1  \n",
       "15744                MURPHY6759ATWAL STATESBORO GA        False             1  \n",
       "15745  PURCHASE AUTHORIZED ON 12/15 APPLE.COM/BILL        False             1  \n",
       "\n",
       "[15746 rows x 13 columns]"
      ]
     },
     "execution_count": 340,
     "metadata": {},
     "output_type": "execute_result"
    }
   ],
   "source": [
    "df"
   ]
  }
 ],
 "metadata": {
  "kernelspec": {
   "display_name": "bert",
   "language": "python",
   "name": "bert"
  },
  "language_info": {
   "codemirror_mode": {
    "name": "ipython",
    "version": 3
   },
   "file_extension": ".py",
   "mimetype": "text/x-python",
   "name": "python",
   "nbconvert_exporter": "python",
   "pygments_lexer": "ipython3",
   "version": "3.8.17"
  }
 },
 "nbformat": 4,
 "nbformat_minor": 5
}
