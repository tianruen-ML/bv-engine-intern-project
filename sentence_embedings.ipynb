{
 "cells": [
  {
   "cell_type": "code",
   "execution_count": 2,
   "id": "839d29fc-c069-4b15-844b-a8519bdb00bc",
   "metadata": {},
   "outputs": [
    {
     "name": "stderr",
     "output_type": "stream",
     "text": [
      "/home/twoon/.local/lib/python3.8/site-packages/snowflake/connector/options.py:96: UserWarning: You have an incompatible version of 'pyarrow' installed (12.0.1), please install a version that adheres to: 'pyarrow<8.1.0,>=8.0.0; extra == \"pandas\"'\n",
      "  warn_incompatible_dep(\n"
     ]
    },
    {
     "data": {
      "text/plain": [
       "<torch._C.Generator at 0x7faba0acf2f0>"
      ]
     },
     "execution_count": 2,
     "metadata": {},
     "output_type": "execute_result"
    }
   ],
   "source": [
    "import numpy as np\n",
    "import pandas as pd\n",
    "import matplotlib.pyplot as plt\n",
    "\n",
    "import torch\n",
    "from sentence_transformers import SentenceTransformer, util\n",
    "import pyarrow as pa\n",
    "import pyarrow.parquet as pq\n",
    "\n",
    "from snowflake import connector as sf\n",
    "import os\n",
    "\n",
    "torch.manual_seed(42)"
   ]
  },
  {
   "cell_type": "code",
   "execution_count": 3,
   "id": "aad547bb-fbdf-4731-acb1-cf8cc36633e6",
   "metadata": {
    "tags": []
   },
   "outputs": [],
   "source": [
    "def load_snowflake_data(query):\n",
    "    connection = sf.connect(\n",
    "        user= 'twoon@moneylion.com', # replace with your moneylion email.\n",
    "        account='moneylion.us-east-1',\n",
    "        authenticator='externalbrowser',\n",
    "        database='ANALYTICS_DB',\n",
    "        warehouse='PROD_ANALYST_READ_WH',\n",
    "        role='PROD_A_USR_TWOON_WRITER' # replace with your SF role \n",
    "    ) \n",
    "\n",
    "    connection.autocommit = True\n",
    "\n",
    "    df = pd.read_sql_query(query, connection)\n",
    "\n",
    "    connection.close()\n",
    "    \n",
    "    return df"
   ]
  },
  {
   "cell_type": "code",
   "execution_count": 28,
   "id": "0fc86734-c405-4bb5-988b-0757e93576ef",
   "metadata": {
    "tags": []
   },
   "outputs": [],
   "source": [
    "def sentence_embeddings(dataset, batch_size, parquet_file_name):\n",
    "    # set random state\n",
    "    torch.manual_seed(42)\n",
    "    \n",
    "    # read dataset\n",
    "    df_whole = dataset\n",
    "    df_whole.columns = list(df_whole.columns.str.lower())\n",
    "    # add a new column that shorten the description\n",
    "    df_whole['short_desc'] = df_whole['description'].apply(lambda x: \n",
    "                                             x if len(x) <= 30 else \n",
    "                                             (x[:30] if x[30]==' ' else \n",
    "                                              (x[:x[30:].index(' ') + 30] if ' ' in x[30:] else x)\n",
    "                                             )\n",
    "                                            )\n",
    "    \n",
    "    # create empty parquet file\n",
    "    # if not os.path.exists(parquet_file_name):\n",
    "    df_empty = pd.DataFrame(columns=list(df_whole.columns.str.lower()))\n",
    "    table_empty = pa.Table.from_pandas(df_empty)\n",
    "    pq.write_table(table_empty, parquet_file_name)\n",
    "    \n",
    "    # define tokenizer and model\n",
    "    model = SentenceTransformer('all-MiniLM-L6-v2')\n",
    "    \n",
    "    # define batch size\n",
    "    batch_size = int(batch_size)\n",
    "    \n",
    "    while df_whole.shape[0] > 0:\n",
    "        to_take = min(batch_size, df_whole.shape[0])\n",
    "        df = df_whole[:to_take]\n",
    "        df_whole = df_whole[to_take:]\n",
    "    \n",
    "        # Sentence Transformer - all-MiniLM-L6-v2\n",
    "        ## embeddings\n",
    "        df['emb'] = df.loc[:,'short_desc'].apply(lambda x: model.encode(x))\n",
    "        ## define chargeback text\n",
    "        text = 'ACH DISPUTE ' + 'Adjustment - Cr ' + 'Misc. Credit Adjustment on ' + 'ACH Claim# ' + 'Reversal'\n",
    "        text_emb = model.encode(text)\n",
    "        ## calculate cosine similarity\n",
    "        df['similarity'] = df.loc[:,'emb'].apply(lambda x: util.cos_sim(x, text_emb))\n",
    "        df['similarity'] = df.loc[:,'similarity'].astype('float32')\n",
    "        ## make prediction ; 1 = chargeback/unauth , 0 = good transaction\n",
    "        threshold = 0.3\n",
    "        df['pred'] = df.loc[:,'similarity'].apply(lambda x: 1 if x>= threshold else 0)\n",
    "        \n",
    "        # read existing parquet file and convert it to dataframe\n",
    "        table = pq.read_table(parquet_file_name).to_pandas()\n",
    "        \n",
    "        # concat the new dataframe and dataframe from parquet file\n",
    "        df_concat = pd.concat([table, df])\n",
    "        \n",
    "        # store in parquet file\n",
    "        table_new = pa.Table.from_pandas(df_concat)\n",
    "        pq.write_table(table_new, parquet_file_name)\n",
    "\n",
    "    n_pred_chb = df_concat[df_concat['pred']==1].pred.count()\n",
    "    n_pred_not_chb = df_concat[df_concat['pred']==0].pred.count()"
   ]
  },
  {
   "cell_type": "code",
   "execution_count": 5,
   "id": "6879e243-a64b-483c-a045-5000c5348e31",
   "metadata": {
    "tags": []
   },
   "outputs": [
    {
     "name": "stdout",
     "output_type": "stream",
     "text": [
      "Initiating login request with your identity provider. A browser window should have opened for you to complete the login. If you can't see it, check existing browser windows, or your OS settings. Press CTRL+C to abort and try again...\n",
      "We were unable to open a browser window for you, please open the following url manually then paste the URL you are redirected to into the terminal.\n",
      "URL: https://sso.jumpcloud.com/saml2/snowflakeai?SAMLRequest=lZJbc9owEIX%2Fikd9tmUbpxANJkPjpvGU2wBh0r4JWxARWXK0Eib59ZW5dNKHZKZvGukcfbt7tn9zqIS3Zxq4kimKghB5TBaq5HKbooflnd9DHhgqSyqUZCl6ZYBuBn2glajJ0JonOWcvloHx3EcSSPuQIqslURQ4EEkrBsQUZDEcj0gchIQCMG0cDp0tJXDHejKmJhg3TRM0nUDpLY7DMMThNXaqVvIFvUPUnzNqrYwqlLhYDq6nDxARDpMW4RSOMDsbv3F5GsFnlPVJBOR%2BuZz5s%2BliibzhpbtbJcFWTC%2BY3vOCPcxHpwLAVTCeTr7%2FGuXTSWDBZxSMHwUgVbMR9JkVqqqtcf8G7oQ3rMRCbbmbVp6lqH7mZedeJXSbdx%2FX9fhlfej%2BnNlRBm%2B7xWq12xfb9Y%2FeW7Yxj3S%2BSArkrS7Zxm22OYBluWwTNe4qjDt%2B2PPjZBnGJLoiSTdIvl79Rl7mEuWSmqPzUjaACna2qguhbHmsro0ixn9LpxydVoMcOXrw%2Fw338Xv%2Fec8mbvR5NlOCF6%2FendIVNR8nEwXR8YaX%2FuYoJayiXAzLUjMAl5AQqrnVjBq3zkZbhvDgRP13oQd%2FAA%3D%3D&RelayState=52945\n"
     ]
    },
    {
     "name": "stdin",
     "output_type": "stream",
     "text": [
      "Enter the URL the SSO URL redirected you to:  http://localhost:52945/?token=tVhXl5tM0v4rc_Re6owBgeLxeD-SCCIIgQi6IzRBIokGEX79Io1nXnvstb3f7l6hqq6u-HS1qj__o8vSpxuoYFLkLxPsEzp5ArlfBEkevUyOxvZ5NfnHl8_QzdJZuTkAWBY5BE_jphxuXrkvk6bKN4ULE7jJ3QzATe1vdFKWNrNP6Kasirrwi3TydU8Hg5dJXNflBkHatv3U4p-KKkJmKIohtizpfgwyd_JE383k9a91-69CmyaHJfCTMAHB5IkBsE5yt37EczcER0tZkYM-HVmfGvgMXFg_Y59gXrRh6l6AX2RlM-6JPo2_kBAESFpEST55EpiXiXASFBmTdowusAt6adlLbE6bB10lZifanpGCsqBO6IEbpfO39BjFy6S8JAHOF4QbCUvbK-Wr1y13-0Zi4HDWTfN88yOPWw1MWNvuQSf8cT-EDRByWLv3uGfoDH9GV88zwkBnG2yxwZefiOX6NHky34o1pmDytTSbx-bq27r8OnUuhKC652jytC2qzP1Npu-cJHgOH6KbMedJ3U--iE1W0mnRBJ-Rb7348jmAGz2JxiI01RtWAvgvyo4i6BoZZQKYRH9N3veCQMjD4kHSbl7kie-myfAoqwzquAieyDQqqqSOs3-JJwy9K34Gnf_sY0T-1wT53rU_VoQSbx4-Z0UF_qqg-wxjdzZffFV5ACGoxnMDno4H4WXy1x-j5rHbqNwc3nMLvyd_69l3uQP5DaRFCYJn-BbgV-_-XOFPcvblM_A3Qu6nDUxuQLlDo3R9AL_WFfh_ruppX4Ew6aQEjnAbG8HdPeRb_z6Qr-lgkmg80v9mrcZa_PVdhV61mG7agC-9ynqWX7a2kS9jK8_bQU3tlBYSvq_2iChjtV2GRjfwyeXl4dG3mx-M93q_kh8A-w6w1x2MfAmq8LiGJdvokKFOZ5K5mGGiWzejGmtXx9jRw6bx2RVQrt9efNy0tlrtnnemqrB7f9cNZay1Bds0wlleaCnXHy6eudKceOdASXalzkrXGOkVOFDa1dWLrgfAZ5elIS2nICnmqTzAcC87yWpYNn5QRlim9tCy1YadkxV5uuZEIe92csG14FAiJ-ssuXM7O82Hikf4tTuIFWJ0KQVlDd8avrbM9RXvBXtIdueIXlyLPB_KwdE5aVbN3GlGARXz2NBPT02c6etSnlM5Z-ZylNIK18Klv-3NoFGjVbvE1nS1dRPhGBzJ89yq0Jsoatro7NI_eiE5UFeRqdkV0qfixdAPeqiWlzgkLzznKHlTVSVpd05MXNr5ia7MvZ5enDNRKnVCCRlLl13Yefx26x3d0l4RcZbPsFjBsS29lNZMbstXPVMFYWcf-nyB6-nedtylkmTztL_y-I0B8XJRDCc0FGLdZOXDCaHCjgPd9IicyKE6lD3JJyY4qJJBDah8Ui0-wt3eIASM1aV5qgK5EsQi31eINneWhWY62bRWrsAVYhRd6pKKIdNmG5xWuVdcqe3MW_a7-Uq4Wp6MYv6FgzzTFxzscjTZxVrDKfvYRVgg1EFZFjPT07krVWR8qq52erYoDUgua3c2NUOTmgvBgmdAX5wXSUDhpFcT-zW6hl7k9orsDZqmLrqLX26vipf1gZHP1fVXuH_A7x3SO9C_w9ueo2vGrd13gr5fJeHYoWvwRRaEbXymaXK2iMhWoMhIOAoDdqJrlLZJhoquBOx3ekgQ-_nihraM5oi74iTEN18hNVaiNLIFAyvJ5IUjsSNLxTJtmnJHD6RIRYo5KjTIi7KXD2TLRA5jahrPtgHt4SY8cWYvH5x2Sz74O7bFFG82T4HVld6MiHRrfpYPl3bbPtYltqN2gYW12qy7BdbB0I6YrFsHTT4ULfeqg2G77Q8ypq2k_pkE2xbtZYOcycaxlQeyl5mte-cp5-95Mg-_8d8xyNQ0ZA22tPawIbCtyBgDq8kk8RpzJ_NatsY87jDaYS2Z0h58OpYVw1o3JzuF7vgV2LRxBvYkU_7reidrem7WPqvAMR-XI7pVDDa9HBnWlanoIUN28uEHma05nGyhjSIhkUmUo_UrpwsezmgsRWpHkiQEmmnJ-_qOLASa1OiwDXk5rKvZkSPFqNczMI-9XiRpMYi6vbkMdUtXOoeaJpiXrPdn5lTPziq3RQw5r7fk1sxqnYrZ7d5PCha6DhYyiqwVCYHnQ23ttMO6mfMdIqOkmToAlVeytgKWvBe90gsXS3I_q0mHqBSlQS7GqdQATaknoi_NWGm9AppqM3dM8RykYx_UVxbVb6uoLq3jtfVSzO-bRFV4-mroco4bU0PvCqquUqe4SGJc6pzsiS2BSuDWSKTfZ5bi8yJ-WcPttlpj1AJfLCWJLWk-nmGBGVa-jqLXi8jP6fh20RfhKiVpxzenO1jyaLNYdhJLmxoH5CC2bd7biRyRFVG_QuiKrrFuljM7j9NPwdQpbyHvKuiWBfVi5WGKZtrTs0GFzawNDIHZLe3Qc86XPXpFYrYweXXsUgWcBzE8HUHNc4TMwhXhDowB15e0Qc9MyPbG4rTXsgWyJ7zDErk6HTxucbydEwubPsfT_Rymg1juk2saGdVtUbBYeMziALGBMOVTDmWTgtSWqcIh6sG5LFoZWV9vKJE2_tR0Zjyp4WS4JlqxsxtzzhaXwsU4XIYXrz6tMpPOhAvK3XwfnIA-04ZaK0ReZeDc2O3bC-VnKXeKdJinN8h7tN6LXTnIZ0zIMoqmVntMdwr90nq15KOmm6lOMvaqoT7kBmFrNULQi2SZLaLwYsWhtbNVw1HlXYCHQ9LWaiWQliYwpEZSRSu0JEMqVHS5xpeEW7foiG24JUmVJiOW1AqMSWxMWSDswIbX4RyHXVTtbMRWOykriAK5LiywsLCCZ4PC3Sc507WH08IPZY-otSTD3cKD0vlakbpKilOw8_SDc9UiQlpdcfGMqkU1CMkpv3I2J2NbCwYixsFsi1peOMe3oU8RNu1ElHfu89Vuz2AHFvduulGku9YKzvyCG-o9WYS3s6tFlRTObI3N1VbDy3AtNX1n7tg9Eh5gPl0s5tf53O8Oa-WMQ9SZTnELq3hADBKZjb0HY7A0q10CSMJO8zzdXRxoEY9QCqxLv-IKSp9SApaFsp5eI3uwqK49ZrVRVcYOK7phfq6gVgEfaQybTD3KWVOWSBxu4o3iWTRb2PJ5tzpjCVlKAb-fm9S2w05HiEh5f2ghSghAMAHZKNKOXzrbylBEq9nyIsH1Qpwg8immLwkgdrt5ZZ9bw6ySs2DUuW6XxFSjzK1UOPDIMW16iWWQlHiK9mJz3Lb9VacZTd9vw8w0YOLMp-3e6U9HVWoy-TjzVjjTJ7aqY-aAJj5fOUPteNNinZ6rnXazBOakEEMCXabnJGfZmyoUTfEYLNCCIxrE3F9XLtaMlYG7C58c9AJ0qgqny1OQJyuDt0CC4rP5EjlMlRhHduKhadjo2rmsWHFBzVxTZUqQK87J8mOxiiJnLSYLzUf2jBdcFtiUlNNFPI2VuBEdj9Cwa38bp4fBcEFsozheutp8X-xvoO5s-HpJf7x435mvVzPy7aX93aX-Ps3r9UjDDyRdBODpce__eiKED-mN3owHG8LHP_mfqd2Qb4Pm_2s2vU_gknm0BU3ihJM1O5omo5noTKVsay-LxGnmMKqMkyvpJP13Juj_wTT8SumNdwZ-_UbeBymB-a057Adz3z52fKnbosj_7-_XDb_I3qy_GvhgnS7yMLmruRfkdaT6zRNLtvGAW4Fq8gtNd8T9x88fSlGruVqRYQ2qj8WbYX8X7zAGXyaPt6H_6HXnHbE_i-jj2lvwo0yQ3AXg3V8KjDUBPyDtG2f_MKj3w9IEyX2qHDNZV4n_6sn3S1_-_aDfYnlX8ZHxnTnkY6TvHtSjkNfU4H7AQTZW4IeVpzvoXiak7xdNXk8e5J8cKHdUcOf-FOMfjTya0_trYvL718Tn5NESfDB5GuU3eZK-TOqq-UrWfQkerxGbexLy6BtgvJv8kfNjDpo6zt-5Tw_yD1qRPjbPMclCHoDuZbJe-y7A_dVziOKrZyJcu8_uyvOfMc_38QAL_Lk_m3xncSxTDbr6Zzw6HRvpAYRffpl5f-Pf5Ub2fvy0RRXsq6IeIQ-CxztMWVT133j5ifafLX7P_CZXyIdL4e9b4615fPkn\n"
     ]
    },
    {
     "name": "stderr",
     "output_type": "stream",
     "text": [
      "/tmp/ipykernel_38737/2963586961.py:13: UserWarning: pandas only supports SQLAlchemy connectable (engine/connection) or database string URI or sqlite3 DBAPI2 connection. Other DBAPI2 objects are not tested. Please consider using SQLAlchemy.\n",
      "  df = pd.read_sql_query(query, connection)\n"
     ]
    }
   ],
   "source": [
    "query = \"\"\"with dc_txn_user as (\n",
    "  select distinct user_id\n",
    "  from ANALYTICS_DB.DBT_PAYMENTS.FCT_SUCCESSFUL_CARD_CHARGES\n",
    "  where action = 'DC_FUNDING' \n",
    "  and created_at between dateadd('day', -60, current_date) and current_date\n",
    ")\n",
    "\n",
    "select\n",
    "    bv_transaction_id,\n",
    "    amount, \n",
    "    description,\n",
    "    memo,\n",
    "    categorization,\n",
    "    transaction_date,\n",
    "    created_on,\n",
    "    updated_on,\n",
    "    bank_name,\n",
    "    provider,\n",
    "    bank_status,\n",
    "    merchant_name,\n",
    "    bv_account_id,\n",
    "    user_id,\n",
    "    first_transaction_date,\n",
    "    bank_created_on\n",
    "from ANALYTICS_DB.DBT_BANKING.BASE_TRANSACTION_ENRICHED_V2\n",
    "where user_id in (select user_id from dc_txn_user)\n",
    "and transaction_date between dateadd('day',-180,current_date) and dateadd('day',-60,current_date)\"\"\"\n",
    "\n",
    "df_main = load_snowflake_data(query)"
   ]
  },
  {
   "cell_type": "code",
   "execution_count": 6,
   "id": "af5955e1-f02e-459e-b6f3-002d146962a3",
   "metadata": {
    "tags": []
   },
   "outputs": [
    {
     "data": {
      "text/plain": [
       "14631010"
      ]
     },
     "execution_count": 6,
     "metadata": {},
     "output_type": "execute_result"
    }
   ],
   "source": [
    "table_main = pa.Table.from_pandas(df_main)\n",
    "pq.write_table(table_main, 'main.pq')"
   ]
  },
  {
   "cell_type": "code",
   "execution_count": 18,
   "id": "0631096a-8f46-4c31-971a-7a27eee68a91",
   "metadata": {
    "tags": []
   },
   "outputs": [
    {
     "data": {
      "text/plain": [
       "14631010"
      ]
     },
     "execution_count": 18,
     "metadata": {},
     "output_type": "execute_result"
    }
   ],
   "source": [
    "n = df_main.shape[0]\n",
    "n"
   ]
  },
  {
   "cell_type": "code",
   "execution_count": 26,
   "id": "c696148a-6028-4871-be55-f1ff4a027c55",
   "metadata": {
    "tags": []
   },
   "outputs": [],
   "source": [
    "new_df = df_main.iloc[5500000:]"
   ]
  },
  {
   "cell_type": "code",
   "execution_count": 32,
   "id": "9bc0fcf6-3586-46ac-bcf7-0f45e10d68b8",
   "metadata": {
    "tags": []
   },
   "outputs": [
    {
     "data": {
      "text/plain": [
       "(9131010, 17)"
      ]
     },
     "execution_count": 32,
     "metadata": {},
     "output_type": "execute_result"
    }
   ],
   "source": [
    "new_df.shape"
   ]
  },
  {
   "cell_type": "code",
   "execution_count": 40,
   "id": "990bacf6-3d28-4561-baaa-8bd841f1a65b",
   "metadata": {
    "tags": []
   },
   "outputs": [
    {
     "data": {
      "text/html": [
       "<div>\n",
       "<style scoped>\n",
       "    .dataframe tbody tr th:only-of-type {\n",
       "        vertical-align: middle;\n",
       "    }\n",
       "\n",
       "    .dataframe tbody tr th {\n",
       "        vertical-align: top;\n",
       "    }\n",
       "\n",
       "    .dataframe thead th {\n",
       "        text-align: right;\n",
       "    }\n",
       "</style>\n",
       "<table border=\"1\" class=\"dataframe\">\n",
       "  <thead>\n",
       "    <tr style=\"text-align: right;\">\n",
       "      <th></th>\n",
       "      <th>bv_transaction_id</th>\n",
       "      <th>amount</th>\n",
       "      <th>description</th>\n",
       "      <th>memo</th>\n",
       "      <th>categorization</th>\n",
       "      <th>transaction_date</th>\n",
       "      <th>created_on</th>\n",
       "      <th>updated_on</th>\n",
       "      <th>bank_name</th>\n",
       "      <th>provider</th>\n",
       "      <th>bank_status</th>\n",
       "      <th>merchant_name</th>\n",
       "      <th>bv_account_id</th>\n",
       "      <th>user_id</th>\n",
       "      <th>first_transaction_date</th>\n",
       "      <th>bank_created_on</th>\n",
       "      <th>short_desc</th>\n",
       "    </tr>\n",
       "  </thead>\n",
       "  <tbody>\n",
       "    <tr>\n",
       "      <th>10999995</th>\n",
       "      <td>f49eb224-eb46-401c-be6e-26f932aafc6d</td>\n",
       "      <td>-8.82</td>\n",
       "      <td>Amazon</td>\n",
       "      <td>Shops Digital Purchase</td>\n",
       "      <td>Shops, Digital Purchase</td>\n",
       "      <td>2023-05-19 00:00:00</td>\n",
       "      <td>2023-05-19 07:02:58.527</td>\n",
       "      <td>2023-08-22 20:33:53.316</td>\n",
       "      <td>Capital One</td>\n",
       "      <td>PLAID</td>\n",
       "      <td>COMPLETE</td>\n",
       "      <td>None</td>\n",
       "      <td>5f32f4ad-8560-413b-afb8-cd95019cf415</td>\n",
       "      <td>63180ccd7629ff7c8a2b8da2</td>\n",
       "      <td>2022-06-09 00:00:00</td>\n",
       "      <td>2022-09-07 03:23:26.035</td>\n",
       "      <td>Amazon</td>\n",
       "    </tr>\n",
       "    <tr>\n",
       "      <th>10999996</th>\n",
       "      <td>d404493c-249e-4b01-8955-77390cd3c375</td>\n",
       "      <td>-18.72</td>\n",
       "      <td>King Of Ro</td>\n",
       "      <td>Food and Drink Restaurants</td>\n",
       "      <td>Food and Drink, Restaurants</td>\n",
       "      <td>2023-02-26 00:00:00</td>\n",
       "      <td>2023-02-26 21:51:20.554</td>\n",
       "      <td>2023-06-26 03:04:51.058</td>\n",
       "      <td>Chime Bank</td>\n",
       "      <td>PLAID</td>\n",
       "      <td>COMPLETE</td>\n",
       "      <td>None</td>\n",
       "      <td>83bca2c5-908f-4460-9a7d-412d61073deb</td>\n",
       "      <td>62e17982f716236c9bba58e7</td>\n",
       "      <td>2021-07-28 00:00:00</td>\n",
       "      <td>2022-07-27 18:01:04.005</td>\n",
       "      <td>King Of Ro</td>\n",
       "    </tr>\n",
       "    <tr>\n",
       "      <th>10999997</th>\n",
       "      <td>d1bfde5b-3496-46d2-a4fe-81c88cb5b450</td>\n",
       "      <td>0.32</td>\n",
       "      <td>Deposit Transfer From Share 0007 / CHANGE UP XFR</td>\n",
       "      <td>Transfer Credit</td>\n",
       "      <td>Transfer, Credit</td>\n",
       "      <td>2023-03-22 00:00:00</td>\n",
       "      <td>2023-04-28 14:19:14.528</td>\n",
       "      <td>2023-04-28 14:20:04.657</td>\n",
       "      <td>Fortera Credit Union</td>\n",
       "      <td>PLAID</td>\n",
       "      <td>COMPLETE</td>\n",
       "      <td>None</td>\n",
       "      <td>aa395746-05ec-4d65-bfe5-13d8fb46fbab</td>\n",
       "      <td>5a919e2a4dc44100013d4d95</td>\n",
       "      <td>2022-04-29 00:00:00</td>\n",
       "      <td>2023-04-28 14:19:13.822</td>\n",
       "      <td>Deposit Transfer From Share 0007</td>\n",
       "    </tr>\n",
       "    <tr>\n",
       "      <th>10999998</th>\n",
       "      <td>41860c3a-ae9d-460c-be9e-79ed7a776188</td>\n",
       "      <td>-29.57</td>\n",
       "      <td>PURCHASE AUTHORIZED ON 05/11 CASEYS #3471 15 W...</td>\n",
       "      <td>Travel Gas Stations</td>\n",
       "      <td>Travel, Gas Stations</td>\n",
       "      <td>2023-05-12 00:00:00</td>\n",
       "      <td>2023-05-13 13:50:40.363</td>\n",
       "      <td>2023-05-13 13:50:45.007</td>\n",
       "      <td>Wells Fargo</td>\n",
       "      <td>PLAID</td>\n",
       "      <td>COMPLETE</td>\n",
       "      <td>None</td>\n",
       "      <td>84a9f64a-cf41-4fbb-8d6b-915e5ae2d1d4</td>\n",
       "      <td>62d02b2c12f3f13ce873fa42</td>\n",
       "      <td>2021-07-16 00:00:00</td>\n",
       "      <td>2022-07-14 14:44:52.880</td>\n",
       "      <td>PURCHASE AUTHORIZED ON 05/11 CASEYS</td>\n",
       "    </tr>\n",
       "    <tr>\n",
       "      <th>10999999</th>\n",
       "      <td>32dfa4dc-9db7-4835-95dc-9c5319251935</td>\n",
       "      <td>5.66</td>\n",
       "      <td>Round Up Transfer</td>\n",
       "      <td>Payment</td>\n",
       "      <td>Payment</td>\n",
       "      <td>2023-04-27 07:00:15</td>\n",
       "      <td>2023-04-27 07:08:02.988</td>\n",
       "      <td>2023-08-14 07:01:33.239</td>\n",
       "      <td>MoneyLion</td>\n",
       "      <td>ML</td>\n",
       "      <td>COMPLETE</td>\n",
       "      <td>None</td>\n",
       "      <td>bdd8db23-f906-4f13-b421-5c82adf1af79</td>\n",
       "      <td>639131bb95da2527dcfe4f27</td>\n",
       "      <td>2022-12-12 08:32:37</td>\n",
       "      <td>2022-12-08 16:19:17.867</td>\n",
       "      <td>Round Up Transfer</td>\n",
       "    </tr>\n",
       "    <tr>\n",
       "      <th>11000000</th>\n",
       "      <td>095233e4-c548-4f11-9f72-9869264b3a13</td>\n",
       "      <td>-3.00</td>\n",
       "      <td>Out of Network ATM fee 7559 MIDLOTHIAN TURNPIK...</td>\n",
       "      <td>Bank Fees ATM</td>\n",
       "      <td>Bank Fees, ATM</td>\n",
       "      <td>2023-05-21 00:00:00</td>\n",
       "      <td>2023-05-22 23:28:12.321</td>\n",
       "      <td>2023-05-22 23:28:14.622</td>\n",
       "      <td>Varo Bank</td>\n",
       "      <td>PLAID</td>\n",
       "      <td>REMOVED</td>\n",
       "      <td>None</td>\n",
       "      <td>a3b89d01-97fb-4286-b06b-15ca6f92cccd</td>\n",
       "      <td>63622f2453373f5a2376a42b</td>\n",
       "      <td>2022-10-05 00:00:00</td>\n",
       "      <td>2022-11-02 09:00:27.089</td>\n",
       "      <td>Out of Network ATM fee 7559 MIDLOTHIAN</td>\n",
       "    </tr>\n",
       "  </tbody>\n",
       "</table>\n",
       "</div>"
      ],
      "text/plain": [
       "                             bv_transaction_id  amount  \\\n",
       "10999995  f49eb224-eb46-401c-be6e-26f932aafc6d   -8.82   \n",
       "10999996  d404493c-249e-4b01-8955-77390cd3c375  -18.72   \n",
       "10999997  d1bfde5b-3496-46d2-a4fe-81c88cb5b450    0.32   \n",
       "10999998  41860c3a-ae9d-460c-be9e-79ed7a776188  -29.57   \n",
       "10999999  32dfa4dc-9db7-4835-95dc-9c5319251935    5.66   \n",
       "11000000  095233e4-c548-4f11-9f72-9869264b3a13   -3.00   \n",
       "\n",
       "                                                description  \\\n",
       "10999995                                             Amazon   \n",
       "10999996                                         King Of Ro   \n",
       "10999997   Deposit Transfer From Share 0007 / CHANGE UP XFR   \n",
       "10999998  PURCHASE AUTHORIZED ON 05/11 CASEYS #3471 15 W...   \n",
       "10999999                                  Round Up Transfer   \n",
       "11000000  Out of Network ATM fee 7559 MIDLOTHIAN TURNPIK...   \n",
       "\n",
       "                                memo               categorization  \\\n",
       "10999995      Shops Digital Purchase      Shops, Digital Purchase   \n",
       "10999996  Food and Drink Restaurants  Food and Drink, Restaurants   \n",
       "10999997             Transfer Credit             Transfer, Credit   \n",
       "10999998         Travel Gas Stations         Travel, Gas Stations   \n",
       "10999999                     Payment                      Payment   \n",
       "11000000               Bank Fees ATM               Bank Fees, ATM   \n",
       "\n",
       "            transaction_date              created_on              updated_on  \\\n",
       "10999995 2023-05-19 00:00:00 2023-05-19 07:02:58.527 2023-08-22 20:33:53.316   \n",
       "10999996 2023-02-26 00:00:00 2023-02-26 21:51:20.554 2023-06-26 03:04:51.058   \n",
       "10999997 2023-03-22 00:00:00 2023-04-28 14:19:14.528 2023-04-28 14:20:04.657   \n",
       "10999998 2023-05-12 00:00:00 2023-05-13 13:50:40.363 2023-05-13 13:50:45.007   \n",
       "10999999 2023-04-27 07:00:15 2023-04-27 07:08:02.988 2023-08-14 07:01:33.239   \n",
       "11000000 2023-05-21 00:00:00 2023-05-22 23:28:12.321 2023-05-22 23:28:14.622   \n",
       "\n",
       "                     bank_name provider bank_status merchant_name  \\\n",
       "10999995           Capital One    PLAID    COMPLETE          None   \n",
       "10999996            Chime Bank    PLAID    COMPLETE          None   \n",
       "10999997  Fortera Credit Union    PLAID    COMPLETE          None   \n",
       "10999998           Wells Fargo    PLAID    COMPLETE          None   \n",
       "10999999             MoneyLion       ML    COMPLETE          None   \n",
       "11000000             Varo Bank    PLAID     REMOVED          None   \n",
       "\n",
       "                                 bv_account_id                   user_id  \\\n",
       "10999995  5f32f4ad-8560-413b-afb8-cd95019cf415  63180ccd7629ff7c8a2b8da2   \n",
       "10999996  83bca2c5-908f-4460-9a7d-412d61073deb  62e17982f716236c9bba58e7   \n",
       "10999997  aa395746-05ec-4d65-bfe5-13d8fb46fbab  5a919e2a4dc44100013d4d95   \n",
       "10999998  84a9f64a-cf41-4fbb-8d6b-915e5ae2d1d4  62d02b2c12f3f13ce873fa42   \n",
       "10999999  bdd8db23-f906-4f13-b421-5c82adf1af79  639131bb95da2527dcfe4f27   \n",
       "11000000  a3b89d01-97fb-4286-b06b-15ca6f92cccd  63622f2453373f5a2376a42b   \n",
       "\n",
       "         first_transaction_date         bank_created_on  \\\n",
       "10999995    2022-06-09 00:00:00 2022-09-07 03:23:26.035   \n",
       "10999996    2021-07-28 00:00:00 2022-07-27 18:01:04.005   \n",
       "10999997    2022-04-29 00:00:00 2023-04-28 14:19:13.822   \n",
       "10999998    2021-07-16 00:00:00 2022-07-14 14:44:52.880   \n",
       "10999999    2022-12-12 08:32:37 2022-12-08 16:19:17.867   \n",
       "11000000    2022-10-05 00:00:00 2022-11-02 09:00:27.089   \n",
       "\n",
       "                                      short_desc  \n",
       "10999995                                  Amazon  \n",
       "10999996                              King Of Ro  \n",
       "10999997        Deposit Transfer From Share 0007  \n",
       "10999998     PURCHASE AUTHORIZED ON 05/11 CASEYS  \n",
       "10999999                       Round Up Transfer  \n",
       "11000000  Out of Network ATM fee 7559 MIDLOTHIAN  "
      ]
     },
     "execution_count": 40,
     "metadata": {},
     "output_type": "execute_result"
    }
   ],
   "source": [
    "new_df.iloc[5499995:5500001]"
   ]
  },
  {
   "cell_type": "code",
   "execution_count": 35,
   "id": "53436dde-59cb-465f-9e3f-ac1a55ea22dd",
   "metadata": {
    "tags": []
   },
   "outputs": [],
   "source": [
    "new_df_3rd_batch = df_main.iloc[11000000:]"
   ]
  },
  {
   "cell_type": "code",
   "execution_count": 42,
   "id": "d9055669-26c0-4da0-a1bb-b2f35101f155",
   "metadata": {
    "tags": []
   },
   "outputs": [
    {
     "data": {
      "text/plain": [
       "(3631010, 17)"
      ]
     },
     "execution_count": 42,
     "metadata": {},
     "output_type": "execute_result"
    }
   ],
   "source": [
    "new_df_3rd_batch.shape"
   ]
  },
  {
   "cell_type": "code",
   "execution_count": 43,
   "id": "df9d69ee-dfc7-455d-a6eb-681f93eb2508",
   "metadata": {
    "tags": []
   },
   "outputs": [
    {
     "name": "stderr",
     "output_type": "stream",
     "text": [
      "/tmp/ipykernel_38737/1059276214.py:9: SettingWithCopyWarning: \n",
      "A value is trying to be set on a copy of a slice from a DataFrame.\n",
      "Try using .loc[row_indexer,col_indexer] = value instead\n",
      "\n",
      "See the caveats in the documentation: https://pandas.pydata.org/pandas-docs/stable/user_guide/indexing.html#returning-a-view-versus-a-copy\n",
      "  df_whole['short_desc'] = df_whole['description'].apply(lambda x:\n",
      "/tmp/ipykernel_38737/1059276214.py:35: SettingWithCopyWarning: \n",
      "A value is trying to be set on a copy of a slice from a DataFrame.\n",
      "Try using .loc[row_indexer,col_indexer] = value instead\n",
      "\n",
      "See the caveats in the documentation: https://pandas.pydata.org/pandas-docs/stable/user_guide/indexing.html#returning-a-view-versus-a-copy\n",
      "  df['emb'] = df.loc[:,'short_desc'].apply(lambda x: model.encode(x))\n",
      "/tmp/ipykernel_38737/1059276214.py:40: SettingWithCopyWarning: \n",
      "A value is trying to be set on a copy of a slice from a DataFrame.\n",
      "Try using .loc[row_indexer,col_indexer] = value instead\n",
      "\n",
      "See the caveats in the documentation: https://pandas.pydata.org/pandas-docs/stable/user_guide/indexing.html#returning-a-view-versus-a-copy\n",
      "  df['similarity'] = df.loc[:,'emb'].apply(lambda x: util.cos_sim(x, text_emb))\n",
      "/tmp/ipykernel_38737/1059276214.py:41: SettingWithCopyWarning: \n",
      "A value is trying to be set on a copy of a slice from a DataFrame.\n",
      "Try using .loc[row_indexer,col_indexer] = value instead\n",
      "\n",
      "See the caveats in the documentation: https://pandas.pydata.org/pandas-docs/stable/user_guide/indexing.html#returning-a-view-versus-a-copy\n",
      "  df['similarity'] = df.loc[:,'similarity'].astype('float32')\n",
      "/tmp/ipykernel_38737/1059276214.py:44: SettingWithCopyWarning: \n",
      "A value is trying to be set on a copy of a slice from a DataFrame.\n",
      "Try using .loc[row_indexer,col_indexer] = value instead\n",
      "\n",
      "See the caveats in the documentation: https://pandas.pydata.org/pandas-docs/stable/user_guide/indexing.html#returning-a-view-versus-a-copy\n",
      "  df['pred'] = df.loc[:,'similarity'].apply(lambda x: 1 if x>= threshold else 0)\n"
     ]
    }
   ],
   "source": [
    "sentence_embeddings(new_df_3rd_batch,2e5,'sentence_embeddings_pt3.pq')"
   ]
  },
  {
   "cell_type": "code",
   "execution_count": 29,
   "id": "a1b22a23-3eb7-4191-9354-a167471da024",
   "metadata": {
    "tags": []
   },
   "outputs": [
    {
     "name": "stderr",
     "output_type": "stream",
     "text": [
      "/tmp/ipykernel_38737/1059276214.py:9: SettingWithCopyWarning: \n",
      "A value is trying to be set on a copy of a slice from a DataFrame.\n",
      "Try using .loc[row_indexer,col_indexer] = value instead\n",
      "\n",
      "See the caveats in the documentation: https://pandas.pydata.org/pandas-docs/stable/user_guide/indexing.html#returning-a-view-versus-a-copy\n",
      "  df_whole['short_desc'] = df_whole['description'].apply(lambda x:\n",
      "/tmp/ipykernel_38737/1059276214.py:35: SettingWithCopyWarning: \n",
      "A value is trying to be set on a copy of a slice from a DataFrame.\n",
      "Try using .loc[row_indexer,col_indexer] = value instead\n",
      "\n",
      "See the caveats in the documentation: https://pandas.pydata.org/pandas-docs/stable/user_guide/indexing.html#returning-a-view-versus-a-copy\n",
      "  df['emb'] = df.loc[:,'short_desc'].apply(lambda x: model.encode(x))\n",
      "/tmp/ipykernel_38737/1059276214.py:40: SettingWithCopyWarning: \n",
      "A value is trying to be set on a copy of a slice from a DataFrame.\n",
      "Try using .loc[row_indexer,col_indexer] = value instead\n",
      "\n",
      "See the caveats in the documentation: https://pandas.pydata.org/pandas-docs/stable/user_guide/indexing.html#returning-a-view-versus-a-copy\n",
      "  df['similarity'] = df.loc[:,'emb'].apply(lambda x: util.cos_sim(x, text_emb))\n",
      "/tmp/ipykernel_38737/1059276214.py:41: SettingWithCopyWarning: \n",
      "A value is trying to be set on a copy of a slice from a DataFrame.\n",
      "Try using .loc[row_indexer,col_indexer] = value instead\n",
      "\n",
      "See the caveats in the documentation: https://pandas.pydata.org/pandas-docs/stable/user_guide/indexing.html#returning-a-view-versus-a-copy\n",
      "  df['similarity'] = df.loc[:,'similarity'].astype('float32')\n",
      "/tmp/ipykernel_38737/1059276214.py:44: SettingWithCopyWarning: \n",
      "A value is trying to be set on a copy of a slice from a DataFrame.\n",
      "Try using .loc[row_indexer,col_indexer] = value instead\n",
      "\n",
      "See the caveats in the documentation: https://pandas.pydata.org/pandas-docs/stable/user_guide/indexing.html#returning-a-view-versus-a-copy\n",
      "  df['pred'] = df.loc[:,'similarity'].apply(lambda x: 1 if x>= threshold else 0)\n"
     ]
    },
    {
     "ename": "OSError",
     "evalue": "List index overflow.",
     "output_type": "error",
     "traceback": [
      "\u001b[0;31m---------------------------------------------------------------------------\u001b[0m",
      "\u001b[0;31mOSError\u001b[0m                                   Traceback (most recent call last)",
      "Cell \u001b[0;32mIn[29], line 1\u001b[0m\n\u001b[0;32m----> 1\u001b[0m \u001b[43msentence_embeddings\u001b[49m\u001b[43m(\u001b[49m\u001b[43mnew_df\u001b[49m\u001b[43m,\u001b[49m\u001b[38;5;241;43m2e5\u001b[39;49m\u001b[43m,\u001b[49m\u001b[38;5;124;43m'\u001b[39;49m\u001b[38;5;124;43msentence_embeddings_pt2.pq\u001b[39;49m\u001b[38;5;124;43m'\u001b[39;49m\u001b[43m)\u001b[49m\n",
      "Cell \u001b[0;32mIn[28], line 47\u001b[0m, in \u001b[0;36msentence_embeddings\u001b[0;34m(dataset, batch_size, parquet_file_name)\u001b[0m\n\u001b[1;32m     44\u001b[0m df[\u001b[38;5;124m'\u001b[39m\u001b[38;5;124mpred\u001b[39m\u001b[38;5;124m'\u001b[39m] \u001b[38;5;241m=\u001b[39m df\u001b[38;5;241m.\u001b[39mloc[:,\u001b[38;5;124m'\u001b[39m\u001b[38;5;124msimilarity\u001b[39m\u001b[38;5;124m'\u001b[39m]\u001b[38;5;241m.\u001b[39mapply(\u001b[38;5;28;01mlambda\u001b[39;00m x: \u001b[38;5;241m1\u001b[39m \u001b[38;5;28;01mif\u001b[39;00m x\u001b[38;5;241m>\u001b[39m\u001b[38;5;241m=\u001b[39m threshold \u001b[38;5;28;01melse\u001b[39;00m \u001b[38;5;241m0\u001b[39m)\n\u001b[1;32m     46\u001b[0m \u001b[38;5;66;03m# read existing parquet file and convert it to dataframe\u001b[39;00m\n\u001b[0;32m---> 47\u001b[0m table \u001b[38;5;241m=\u001b[39m \u001b[43mpq\u001b[49m\u001b[38;5;241;43m.\u001b[39;49m\u001b[43mread_table\u001b[49m\u001b[43m(\u001b[49m\u001b[43mparquet_file_name\u001b[49m\u001b[43m)\u001b[49m\u001b[38;5;241m.\u001b[39mto_pandas()\n\u001b[1;32m     49\u001b[0m \u001b[38;5;66;03m# concat the new dataframe and dataframe from parquet file\u001b[39;00m\n\u001b[1;32m     50\u001b[0m df_concat \u001b[38;5;241m=\u001b[39m pd\u001b[38;5;241m.\u001b[39mconcat([table, df])\n",
      "File \u001b[0;32m~/.conda/envs/nlp/lib/python3.8/site-packages/pyarrow/parquet/core.py:2986\u001b[0m, in \u001b[0;36mread_table\u001b[0;34m(source, columns, use_threads, metadata, schema, use_pandas_metadata, read_dictionary, memory_map, buffer_size, partitioning, filesystem, filters, use_legacy_dataset, ignore_prefixes, pre_buffer, coerce_int96_timestamp_unit, decryption_properties, thrift_string_size_limit, thrift_container_size_limit)\u001b[0m\n\u001b[1;32m   2975\u001b[0m         \u001b[38;5;66;03m# TODO test that source is not a directory or a list\u001b[39;00m\n\u001b[1;32m   2976\u001b[0m         dataset \u001b[38;5;241m=\u001b[39m ParquetFile(\n\u001b[1;32m   2977\u001b[0m             source, metadata\u001b[38;5;241m=\u001b[39mmetadata, read_dictionary\u001b[38;5;241m=\u001b[39mread_dictionary,\n\u001b[1;32m   2978\u001b[0m             memory_map\u001b[38;5;241m=\u001b[39mmemory_map, buffer_size\u001b[38;5;241m=\u001b[39mbuffer_size,\n\u001b[0;32m   (...)\u001b[0m\n\u001b[1;32m   2983\u001b[0m             thrift_container_size_limit\u001b[38;5;241m=\u001b[39mthrift_container_size_limit,\n\u001b[1;32m   2984\u001b[0m         )\n\u001b[0;32m-> 2986\u001b[0m     \u001b[38;5;28;01mreturn\u001b[39;00m \u001b[43mdataset\u001b[49m\u001b[38;5;241;43m.\u001b[39;49m\u001b[43mread\u001b[49m\u001b[43m(\u001b[49m\u001b[43mcolumns\u001b[49m\u001b[38;5;241;43m=\u001b[39;49m\u001b[43mcolumns\u001b[49m\u001b[43m,\u001b[49m\u001b[43m \u001b[49m\u001b[43muse_threads\u001b[49m\u001b[38;5;241;43m=\u001b[39;49m\u001b[43muse_threads\u001b[49m\u001b[43m,\u001b[49m\n\u001b[1;32m   2987\u001b[0m \u001b[43m                        \u001b[49m\u001b[43muse_pandas_metadata\u001b[49m\u001b[38;5;241;43m=\u001b[39;49m\u001b[43muse_pandas_metadata\u001b[49m\u001b[43m)\u001b[49m\n\u001b[1;32m   2989\u001b[0m warnings\u001b[38;5;241m.\u001b[39mwarn(\n\u001b[1;32m   2990\u001b[0m     \u001b[38;5;124m\"\u001b[39m\u001b[38;5;124mPassing \u001b[39m\u001b[38;5;124m'\u001b[39m\u001b[38;5;124muse_legacy_dataset=True\u001b[39m\u001b[38;5;124m'\u001b[39m\u001b[38;5;124m to get the legacy behaviour is \u001b[39m\u001b[38;5;124m\"\u001b[39m\n\u001b[1;32m   2991\u001b[0m     \u001b[38;5;124m\"\u001b[39m\u001b[38;5;124mdeprecated as of pyarrow 8.0.0, and the legacy implementation will \u001b[39m\u001b[38;5;124m\"\u001b[39m\n\u001b[1;32m   2992\u001b[0m     \u001b[38;5;124m\"\u001b[39m\u001b[38;5;124mbe removed in a future version.\u001b[39m\u001b[38;5;124m\"\u001b[39m,\n\u001b[1;32m   2993\u001b[0m     \u001b[38;5;167;01mFutureWarning\u001b[39;00m, stacklevel\u001b[38;5;241m=\u001b[39m\u001b[38;5;241m2\u001b[39m)\n\u001b[1;32m   2995\u001b[0m \u001b[38;5;28;01mif\u001b[39;00m ignore_prefixes \u001b[38;5;129;01mis\u001b[39;00m \u001b[38;5;129;01mnot\u001b[39;00m \u001b[38;5;28;01mNone\u001b[39;00m:\n",
      "File \u001b[0;32m~/.conda/envs/nlp/lib/python3.8/site-packages/pyarrow/parquet/core.py:2614\u001b[0m, in \u001b[0;36m_ParquetDatasetV2.read\u001b[0;34m(self, columns, use_threads, use_pandas_metadata)\u001b[0m\n\u001b[1;32m   2606\u001b[0m         index_columns \u001b[38;5;241m=\u001b[39m [\n\u001b[1;32m   2607\u001b[0m             col \u001b[38;5;28;01mfor\u001b[39;00m col \u001b[38;5;129;01min\u001b[39;00m _get_pandas_index_columns(metadata)\n\u001b[1;32m   2608\u001b[0m             \u001b[38;5;28;01mif\u001b[39;00m \u001b[38;5;129;01mnot\u001b[39;00m \u001b[38;5;28misinstance\u001b[39m(col, \u001b[38;5;28mdict\u001b[39m)\n\u001b[1;32m   2609\u001b[0m         ]\n\u001b[1;32m   2610\u001b[0m         columns \u001b[38;5;241m=\u001b[39m (\n\u001b[1;32m   2611\u001b[0m             \u001b[38;5;28mlist\u001b[39m(columns) \u001b[38;5;241m+\u001b[39m \u001b[38;5;28mlist\u001b[39m(\u001b[38;5;28mset\u001b[39m(index_columns) \u001b[38;5;241m-\u001b[39m \u001b[38;5;28mset\u001b[39m(columns))\n\u001b[1;32m   2612\u001b[0m         )\n\u001b[0;32m-> 2614\u001b[0m table \u001b[38;5;241m=\u001b[39m \u001b[38;5;28;43mself\u001b[39;49m\u001b[38;5;241;43m.\u001b[39;49m\u001b[43m_dataset\u001b[49m\u001b[38;5;241;43m.\u001b[39;49m\u001b[43mto_table\u001b[49m\u001b[43m(\u001b[49m\n\u001b[1;32m   2615\u001b[0m \u001b[43m    \u001b[49m\u001b[43mcolumns\u001b[49m\u001b[38;5;241;43m=\u001b[39;49m\u001b[43mcolumns\u001b[49m\u001b[43m,\u001b[49m\u001b[43m \u001b[49m\u001b[38;5;28;43mfilter\u001b[39;49m\u001b[38;5;241;43m=\u001b[39;49m\u001b[38;5;28;43mself\u001b[39;49m\u001b[38;5;241;43m.\u001b[39;49m\u001b[43m_filter_expression\u001b[49m\u001b[43m,\u001b[49m\n\u001b[1;32m   2616\u001b[0m \u001b[43m    \u001b[49m\u001b[43muse_threads\u001b[49m\u001b[38;5;241;43m=\u001b[39;49m\u001b[43muse_threads\u001b[49m\n\u001b[1;32m   2617\u001b[0m \u001b[43m\u001b[49m\u001b[43m)\u001b[49m\n\u001b[1;32m   2619\u001b[0m \u001b[38;5;66;03m# if use_pandas_metadata, restore the pandas metadata (which gets\u001b[39;00m\n\u001b[1;32m   2620\u001b[0m \u001b[38;5;66;03m# lost if doing a specific `columns` selection in to_table)\u001b[39;00m\n\u001b[1;32m   2621\u001b[0m \u001b[38;5;28;01mif\u001b[39;00m use_pandas_metadata:\n",
      "File \u001b[0;32m~/.conda/envs/nlp/lib/python3.8/site-packages/pyarrow/_dataset.pyx:546\u001b[0m, in \u001b[0;36mpyarrow._dataset.Dataset.to_table\u001b[0;34m()\u001b[0m\n",
      "File \u001b[0;32m~/.conda/envs/nlp/lib/python3.8/site-packages/pyarrow/_dataset.pyx:3449\u001b[0m, in \u001b[0;36mpyarrow._dataset.Scanner.to_table\u001b[0;34m()\u001b[0m\n",
      "File \u001b[0;32m~/.conda/envs/nlp/lib/python3.8/site-packages/pyarrow/error.pxi:144\u001b[0m, in \u001b[0;36mpyarrow.lib.pyarrow_internal_check_status\u001b[0;34m()\u001b[0m\n",
      "File \u001b[0;32m~/.conda/envs/nlp/lib/python3.8/site-packages/pyarrow/error.pxi:115\u001b[0m, in \u001b[0;36mpyarrow.lib.check_status\u001b[0;34m()\u001b[0m\n",
      "\u001b[0;31mOSError\u001b[0m: List index overflow."
     ]
    }
   ],
   "source": [
    "sentence_embeddings(new_df,2e5,'sentence_embeddings_pt2.pq')"
   ]
  },
  {
   "cell_type": "code",
   "execution_count": 21,
   "id": "be87075f-5fa5-4698-a2f8-8ef928e2caf5",
   "metadata": {
    "tags": []
   },
   "outputs": [
    {
     "ename": "NameError",
     "evalue": "name 'table' is not defined",
     "output_type": "error",
     "traceback": [
      "\u001b[0;31m---------------------------------------------------------------------------\u001b[0m",
      "\u001b[0;31mNameError\u001b[0m                                 Traceback (most recent call last)",
      "Cell \u001b[0;32mIn[21], line 1\u001b[0m\n\u001b[0;32m----> 1\u001b[0m \u001b[43mtable\u001b[49m\n",
      "\u001b[0;31mNameError\u001b[0m: name 'table' is not defined"
     ]
    }
   ],
   "source": [
    "table"
   ]
  },
  {
   "cell_type": "code",
   "execution_count": 8,
   "id": "1e8fd083-f064-48a2-96a4-0bd75e1675b8",
   "metadata": {},
   "outputs": [],
   "source": [
    "df_extra = pq.read_table('sentence_embeddings.parquet').to_pandas()"
   ]
  },
  {
   "cell_type": "code",
   "execution_count": 9,
   "id": "65d83219-4ff6-44b9-9c68-2ea674dac4a6",
   "metadata": {
    "tags": []
   },
   "outputs": [
    {
     "data": {
      "text/plain": [
       "(4400000, 20)"
      ]
     },
     "execution_count": 9,
     "metadata": {},
     "output_type": "execute_result"
    }
   ],
   "source": [
    "df_extra.shape"
   ]
  },
  {
   "cell_type": "code",
   "execution_count": 15,
   "id": "73b9976b-a8ce-4a03-924d-14980a2aaba9",
   "metadata": {
    "tags": []
   },
   "outputs": [
    {
     "data": {
      "text/plain": [
       "0.9521265909090909"
      ]
     },
     "execution_count": 15,
     "metadata": {},
     "output_type": "execute_result"
    }
   ],
   "source": [
    "df_extra[df_extra['pred']==0].pred.count() / df_extra.pred.count()"
   ]
  },
  {
   "cell_type": "code",
   "execution_count": 10,
   "id": "4ca8a7dc-5b99-4f02-bdb2-7c996209c755",
   "metadata": {},
   "outputs": [
    {
     "data": {
      "text/plain": [
       "(14631010, 16)"
      ]
     },
     "execution_count": 10,
     "metadata": {},
     "output_type": "execute_result"
    }
   ],
   "source": [
    "df_main.shape"
   ]
  },
  {
   "cell_type": "code",
   "execution_count": 45,
   "id": "a83e90f2-51e7-4c71-9966-8a0f276fa2bb",
   "metadata": {},
   "outputs": [],
   "source": [
    "table_main = pa.Table.from_pandas(df_main)\n",
    "pq.write_table(table_main, 'dataset_before_embeddings.pq')"
   ]
  },
  {
   "cell_type": "code",
   "execution_count": 47,
   "id": "bbd0d949-e63f-49be-acf7-de70c762d113",
   "metadata": {},
   "outputs": [
    {
     "data": {
      "text/plain": [
       "14631010"
      ]
     },
     "execution_count": 47,
     "metadata": {},
     "output_type": "execute_result"
    }
   ],
   "source": [
    "df_main.bv_transaction_id.nunique()"
   ]
  },
  {
   "cell_type": "code",
   "execution_count": 48,
   "id": "fe4f502f-ec9d-4dc3-9b73-e7034dfda4c0",
   "metadata": {},
   "outputs": [],
   "source": [
    "test = pd.concat([new_df, new_df_3rd_batch])"
   ]
  },
  {
   "cell_type": "code",
   "execution_count": 49,
   "id": "012a1c1f-0c7c-4d7b-a1ce-2f305364b132",
   "metadata": {
    "tags": []
   },
   "outputs": [
    {
     "data": {
      "text/plain": [
       "(12762020, 17)"
      ]
     },
     "execution_count": 49,
     "metadata": {},
     "output_type": "execute_result"
    }
   ],
   "source": [
    "test.shape"
   ]
  },
  {
   "cell_type": "code",
   "execution_count": 52,
   "id": "6c211497-d5b1-49d9-a0d1-73131fc35890",
   "metadata": {
    "tags": []
   },
   "outputs": [
    {
     "data": {
      "text/plain": [
       "9131010"
      ]
     },
     "execution_count": 52,
     "metadata": {},
     "output_type": "execute_result"
    }
   ],
   "source": [
    "new_df.bv_transaction_id.nunique()"
   ]
  },
  {
   "cell_type": "code",
   "execution_count": 53,
   "id": "c6c3cc28-01fe-47d0-a447-76db7536b9f9",
   "metadata": {
    "tags": []
   },
   "outputs": [
    {
     "data": {
      "text/plain": [
       "(9131010, 17)"
      ]
     },
     "execution_count": 53,
     "metadata": {},
     "output_type": "execute_result"
    }
   ],
   "source": [
    "new_df.shape"
   ]
  },
  {
   "cell_type": "code",
   "execution_count": 58,
   "id": "e246eec9-b9ba-49f8-9761-23c124ee507c",
   "metadata": {
    "tags": []
   },
   "outputs": [
    {
     "data": {
      "text/plain": [
       "14631010"
      ]
     },
     "execution_count": 58,
     "metadata": {},
     "output_type": "execute_result"
    }
   ],
   "source": [
    "df_main.bv_transaction_id.nunique()"
   ]
  },
  {
   "cell_type": "code",
   "execution_count": 59,
   "id": "9589f898-6698-4249-8d43-8aaf1b9667a4",
   "metadata": {
    "tags": []
   },
   "outputs": [
    {
     "data": {
      "text/plain": [
       "8"
      ]
     },
     "execution_count": 59,
     "metadata": {},
     "output_type": "execute_result"
    }
   ],
   "source": [
    "1463-1455"
   ]
  },
  {
   "cell_type": "code",
   "execution_count": 60,
   "id": "51524e92-e5ee-43ac-8b0a-875f9621d7b9",
   "metadata": {
    "tags": []
   },
   "outputs": [
    {
     "data": {
      "text/html": [
       "<div>\n",
       "<style scoped>\n",
       "    .dataframe tbody tr th:only-of-type {\n",
       "        vertical-align: middle;\n",
       "    }\n",
       "\n",
       "    .dataframe tbody tr th {\n",
       "        vertical-align: top;\n",
       "    }\n",
       "\n",
       "    .dataframe thead th {\n",
       "        text-align: right;\n",
       "    }\n",
       "</style>\n",
       "<table border=\"1\" class=\"dataframe\">\n",
       "  <thead>\n",
       "    <tr style=\"text-align: right;\">\n",
       "      <th></th>\n",
       "      <th>bv_transaction_id</th>\n",
       "      <th>amount</th>\n",
       "      <th>description</th>\n",
       "      <th>memo</th>\n",
       "      <th>categorization</th>\n",
       "      <th>transaction_date</th>\n",
       "      <th>created_on</th>\n",
       "      <th>updated_on</th>\n",
       "      <th>bank_name</th>\n",
       "      <th>provider</th>\n",
       "      <th>bank_status</th>\n",
       "      <th>merchant_name</th>\n",
       "      <th>bv_account_id</th>\n",
       "      <th>user_id</th>\n",
       "      <th>first_transaction_date</th>\n",
       "      <th>bank_created_on</th>\n",
       "      <th>short_desc</th>\n",
       "    </tr>\n",
       "  </thead>\n",
       "  <tbody>\n",
       "    <tr>\n",
       "      <th>9391482</th>\n",
       "      <td>2a96d037-b29c-4969-8ad5-e8eeea35ff92</td>\n",
       "      <td>-10.8</td>\n",
       "      <td>Withdrawal POS #000000465918 GAS EXPRESS 209 X...</td>\n",
       "      <td>Travel Gas Stations</td>\n",
       "      <td>Travel, Gas Stations</td>\n",
       "      <td>2023-03-17</td>\n",
       "      <td>2023-08-03 16:00:58.814</td>\n",
       "      <td>2023-08-03 16:01:23.166</td>\n",
       "      <td>Baxter Credit Union - BCU</td>\n",
       "      <td>PLAID</td>\n",
       "      <td>COMPLETE</td>\n",
       "      <td>GAS EXPRESS</td>\n",
       "      <td>81d6486e-2b7e-4e18-89ea-1932ae5983d8</td>\n",
       "      <td>64cbce8bd66cf55f469b9792</td>\n",
       "      <td>2022-08-04</td>\n",
       "      <td>2023-08-03 16:00:58.587</td>\n",
       "      <td>Withdrawal POS #000000465918 GAS</td>\n",
       "    </tr>\n",
       "  </tbody>\n",
       "</table>\n",
       "</div>"
      ],
      "text/plain": [
       "                            bv_transaction_id  amount  \\\n",
       "9391482  2a96d037-b29c-4969-8ad5-e8eeea35ff92   -10.8   \n",
       "\n",
       "                                               description  \\\n",
       "9391482  Withdrawal POS #000000465918 GAS EXPRESS 209 X...   \n",
       "\n",
       "                        memo        categorization transaction_date  \\\n",
       "9391482  Travel Gas Stations  Travel, Gas Stations       2023-03-17   \n",
       "\n",
       "                     created_on              updated_on  \\\n",
       "9391482 2023-08-03 16:00:58.814 2023-08-03 16:01:23.166   \n",
       "\n",
       "                         bank_name provider bank_status merchant_name  \\\n",
       "9391482  Baxter Credit Union - BCU    PLAID    COMPLETE   GAS EXPRESS   \n",
       "\n",
       "                                bv_account_id                   user_id  \\\n",
       "9391482  81d6486e-2b7e-4e18-89ea-1932ae5983d8  64cbce8bd66cf55f469b9792   \n",
       "\n",
       "        first_transaction_date         bank_created_on  \\\n",
       "9391482             2022-08-04 2023-08-03 16:00:58.587   \n",
       "\n",
       "                               short_desc  \n",
       "9391482  Withdrawal POS #000000465918 GAS  "
      ]
     },
     "execution_count": 60,
     "metadata": {},
     "output_type": "execute_result"
    }
   ],
   "source": [
    "df_main[df_main['bv_transaction_id']=='2a96d037-b29c-4969-8ad5-e8eeea35ff92']"
   ]
  },
  {
   "cell_type": "code",
   "execution_count": 64,
   "id": "1b84fdd4-0943-482b-a7a8-de2a414dfa6b",
   "metadata": {
    "tags": []
   },
   "outputs": [],
   "source": [
    "a = 'analytics_db.payments_seed.sentence_transfromer_pred__2023_08_28'\n",
    "a = a.lower()"
   ]
  },
  {
   "cell_type": "code",
   "execution_count": 65,
   "id": "04bd3a08-84f1-44e5-bb8c-eea83e758320",
   "metadata": {
    "tags": []
   },
   "outputs": [],
   "source": [
    "b = 'ANALYTICS_DB.PAYMENTS_SEED.SENTENCE_TRANSFORMER_PRED__2023_08_28'\n",
    "b = b.lower()"
   ]
  },
  {
   "cell_type": "code",
   "execution_count": 69,
   "id": "d928605a-8a96-4a77-ae88-e57a2429f052",
   "metadata": {
    "tags": []
   },
   "outputs": [
    {
     "data": {
      "text/plain": [
       "False"
      ]
     },
     "execution_count": 69,
     "metadata": {},
     "output_type": "execute_result"
    }
   ],
   "source": [
    "a==b"
   ]
  },
  {
   "cell_type": "code",
   "execution_count": 68,
   "id": "7e9e947f-9a1f-455e-bf0c-f01d5605880b",
   "metadata": {
    "tags": []
   },
   "outputs": [
    {
     "name": "stdout",
     "output_type": "stream",
     "text": [
      "analytics_db.payments_seed.sentence_transfromer_pred__2023_08_28\n",
      "analytics_db.payments_seed.sentence_transformer_pred__2023_08_28\n"
     ]
    }
   ],
   "source": [
    "print(a)\n",
    "print(b)"
   ]
  },
  {
   "cell_type": "code",
   "execution_count": null,
   "id": "f78c3013-6f66-496f-b3bb-bb24696b99af",
   "metadata": {},
   "outputs": [],
   "source": []
  }
 ],
 "metadata": {
  "kernelspec": {
   "display_name": "Python 3 (ipykernel)",
   "language": "python",
   "name": "python3"
  },
  "language_info": {
   "codemirror_mode": {
    "name": "ipython",
    "version": 3
   },
   "file_extension": ".py",
   "mimetype": "text/x-python",
   "name": "python",
   "nbconvert_exporter": "python",
   "pygments_lexer": "ipython3",
   "version": "3.8.17"
  }
 },
 "nbformat": 4,
 "nbformat_minor": 5
}
